{
 "cells": [
  {
   "cell_type": "markdown",
   "metadata": {},
   "source": [
    "# Week 04a Assignment weather data\n",
    "\n",
    "Welcome to week four of this course programming 1. Analyzing time related data such as estimating seasonal effect, or year effect might be a challenge. How to filter the essential information from the noise? How to apply signal analysis with noisy data. How to make compact useful visualizations? Python has several constructs to handle date time related data. The relevant classes for making plots are Locators and Formatters. Locators determine where the ticks are, and formatters control the formatting of tick labels. The relevant class for date time data is the pandas datetime data type, which has methods like resample and several possibilities to display data (frequencies). As a study case we will work with weather data. If you have data that fits the learning goals, you can bring your own data.\n",
    "\n",
    "Keywords: signal processing, smoothing, resample, formatters and locators, datetime object\n",
    "\n",
    "More to read: \n",
    "\n",
    "- https://fennaf.gitbook.io/bfvm22prog1/\n",
    "- https://machinelearningmastery.com/time-series-data-visualization-with-python/\n",
    "- https://towardsdatascience.com/how-to-plot-time-series-86b5358197d6\n",
    "- In the https://pandas.pydata.org/docs/reference/offset_frequency.html you can find more about frequencies and in the documentation\n",
    "- https://pandas.pydata.org/pandas-docs/stable/user_guide/timeseries.html you can read all the methods of this datetime object.\n",
    "- https://en.wikipedia.org/wiki/Smoothing\n",
    "\n",
    "\n",
    "Learning objectives\n",
    "\n",
    "- load, inspect and clean a dataset\n",
    "- reshape dataframes to group data in a certain frequency\n",
    "- apply smoothing technologies\n",
    "- Create useful visualisation with timeseries data\n",
    "- Maintain development environment \n",
    "- Apply coding standards and FAIR principles\n",
    "\n",
    "Please add topics you want to learn here: https://padlet.com/ffeenstra1/z9duo25d39dcgezz\n",
    "\n",
    "\n",
    "## Assignment\n",
    "\n",
    "You will to organise your data into the required format and apply smoothing. In this assignment we will work with weatherdata from the KNMI. A subset of weatherdata is for you available in the file: `KNMI_20181231`. The data consist of several stations with daily weather data of several years. Your task is to make a plot similar to the plot below. \n",
    "\n",
    "<img src=\"../images/weather.png\" alt=\"drawing\" width=\"400\"/>\n",
    "\n",
    "\n",
    "Furthermore the plot needs the following enhancements\n",
    "\n",
    "1. proper titles and ticks\n",
    "2. widgets selecting a particular year or all years\n",
    "3. lines need to be smoothed\n",
    "3. legends needs to be added\n",
    "\n",
    "Use your creativity. Consider colors, alpha settings, sizes etc. \n",
    "\n",
    "Learning outcomes\n",
    "\n",
    "- load, inspect and clean a dataset \n",
    "- reformat dataframes\n",
    "- apply smoothing technologies\n",
    "- visualize timeseries data\n",
    "\n",
    "The assignment consists of 6 parts:\n",
    "\n",
    "- [part 1: load the data](#0)\n",
    "- [part 2: clean the data](#1)\n",
    "- [part 3: reformat data](#2)\n",
    "- [part 4: smooth the data](#3)\n",
    "- [part 5: visualize the data](#4)\n",
    "- [part 6: Challenge](#5)\n",
    "\n",
    "Part 1 and 5 are mandatory, part 6 is optional (bonus)\n",
    "Mind you that you cannot copy code without referencing the code. If you copy code you need to be able to explain your code verbally and you will not get the full score. \n",
    "\n",
    "\n",
    "NB if you want to make a plot with more actual data you can download data from https://openweathermap.org/api \n"
   ]
  },
  {
   "cell_type": "markdown",
   "metadata": {},
   "source": [
    "---"
   ]
  },
  {
   "cell_type": "markdown",
   "metadata": {},
   "source": [
    "<a name='0'></a>\n",
    "## Part 1: Load the data\n",
    "\n",
    "Either load the dataset `KNMI_20181231.csv` or `KNMI_20181231.txt.tsv`. \n",
    "Preferably we read the data not with a hard coded data path but using a config file. See https://fennaf.gitbook.io/bfvm22prog1/data-processing/configuration-files/yaml. The dataheaders contain spaces and are not very self explainable. Change this into more readable ones. Select data from a station. Station 270 is in the neighborhood of Groningen. For our plot we only need the the mean, minimum and maximum temperature. Of course you are welcome to select other data if you think it might be useful for your visualization. The data should look something like this:\n"
   ]
  },
  {
   "cell_type": "code",
   "execution_count": 1,
   "metadata": {},
   "outputs": [],
   "source": [
    "import pandas as pd\n",
    "import numpy as np\n",
    "import panel as pn\n",
    "import os\n",
    "import re\n",
    "import yaml\n",
    "from bokeh.io import output_notebook\n",
    "from bokeh.plotting import figure, show\n",
    "from bokeh.models import Band, ColumnDataSource, DatetimeTickFormatter\n",
    "from statsmodels.tsa.api import ExponentialSmoothing, SimpleExpSmoothing, Holt \n"
   ]
  },
  {
   "cell_type": "code",
   "execution_count": 2,
   "metadata": {},
   "outputs": [],
   "source": [
    "def configReader():\n",
    "    \"\"\"\n",
    "    explanation: This function open config,yaml file \n",
    "    and fetch the gonfigue file information\n",
    "    input: ...\n",
    "    output: configue file\n",
    "    \"\"\"\n",
    "    with open(\"config.yaml\", \"r\") as inputFile:\n",
    "        config = yaml.safe_load(inputFile)\n",
    "    return config"
   ]
  },
  {
   "cell_type": "code",
   "execution_count": 3,
   "metadata": {},
   "outputs": [
    {
     "data": {
      "text/html": [
       "<div>\n",
       "<style scoped>\n",
       "    .dataframe tbody tr th:only-of-type {\n",
       "        vertical-align: middle;\n",
       "    }\n",
       "\n",
       "    .dataframe tbody tr th {\n",
       "        vertical-align: top;\n",
       "    }\n",
       "\n",
       "    .dataframe thead th {\n",
       "        text-align: right;\n",
       "    }\n",
       "</style>\n",
       "<table border=\"1\" class=\"dataframe\">\n",
       "  <thead>\n",
       "    <tr style=\"text-align: right;\">\n",
       "      <th></th>\n",
       "      <th>station</th>\n",
       "      <th>Date</th>\n",
       "      <th>Tmean</th>\n",
       "      <th>Tmin</th>\n",
       "      <th>Tmax</th>\n",
       "    </tr>\n",
       "  </thead>\n",
       "  <tbody>\n",
       "    <tr>\n",
       "      <th>97641</th>\n",
       "      <td>270</td>\n",
       "      <td>2000-01-01</td>\n",
       "      <td>42</td>\n",
       "      <td>-4</td>\n",
       "      <td>79</td>\n",
       "    </tr>\n",
       "    <tr>\n",
       "      <th>97642</th>\n",
       "      <td>270</td>\n",
       "      <td>2000-01-02</td>\n",
       "      <td>55</td>\n",
       "      <td>33</td>\n",
       "      <td>74</td>\n",
       "    </tr>\n",
       "    <tr>\n",
       "      <th>97643</th>\n",
       "      <td>270</td>\n",
       "      <td>2000-01-03</td>\n",
       "      <td>74</td>\n",
       "      <td>49</td>\n",
       "      <td>89</td>\n",
       "    </tr>\n",
       "    <tr>\n",
       "      <th>97644</th>\n",
       "      <td>270</td>\n",
       "      <td>2000-01-04</td>\n",
       "      <td>46</td>\n",
       "      <td>22</td>\n",
       "      <td>75</td>\n",
       "    </tr>\n",
       "    <tr>\n",
       "      <th>97645</th>\n",
       "      <td>270</td>\n",
       "      <td>2000-01-05</td>\n",
       "      <td>41</td>\n",
       "      <td>14</td>\n",
       "      <td>56</td>\n",
       "    </tr>\n",
       "  </tbody>\n",
       "</table>\n",
       "</div>"
      ],
      "text/plain": [
       "      station       Date  Tmean   Tmin   Tmax\n",
       "97641     270 2000-01-01     42     -4     79\n",
       "97642     270 2000-01-02     55     33     74\n",
       "97643     270 2000-01-03     74     49     89\n",
       "97644     270 2000-01-04     46     22     75\n",
       "97645     270 2000-01-05     41     14     56"
      ]
     },
     "execution_count": 3,
     "metadata": {},
     "output_type": "execute_result"
    }
   ],
   "source": [
    "#read the file\n",
    "config = configReader()\n",
    "FileName = config.values()\n",
    "weatherDf = pd.read_table(list(FileName)[0], skiprows=64)\n",
    "\n",
    "#make a dataframe from the file and add some feature to it\n",
    "weatherDf = weatherDf['#'].str.split(\",\", expand = True )\n",
    "weatherDf = weatherDf.drop(weatherDf.columns[5:], axis='columns')\n",
    "\n",
    "weatherDf.columns = ['station', 'Date', 'Tmean','Tmin', 'Tmax']\n",
    "weatherDf['Date'] = weatherDf['Date'].astype('M')\n",
    "\n",
    "#seperate Leeuwarden weather information from the main data\n",
    "weatherDfLeeuwarden = weatherDf[weatherDf['station'].astype('i') == 270]\n",
    "weatherDfLeeuwarden.head()"
   ]
  },
  {
   "cell_type": "raw",
   "metadata": {},
   "source": [
    "       station       Date  Tmean  Tmin  Tmax\n",
    "97641      270 2000-01-01   42.0  -4.0  79.0\n",
    "97642      270 2000-01-02   55.0  33.0  74.0\n",
    "97643      270 2000-01-03   74.0  49.0  89.0\n",
    "97644      270 2000-01-04   46.0  22.0  75.0\n",
    "97645      270 2000-01-05   41.0  14.0  56.0"
   ]
  },
  {
   "cell_type": "markdown",
   "metadata": {},
   "source": [
    "---"
   ]
  },
  {
   "cell_type": "markdown",
   "metadata": {},
   "source": [
    "<a name='1'></a>\n",
    "## Part 2: Clean the data"
   ]
  },
  {
   "cell_type": "markdown",
   "metadata": {},
   "source": [
    "The data ia not clean. There are empty cells in the dataframe which needs to be replaced with NaN's and the temperature is in centidegrees which needs to be transformed into degrees. The date field needs a datetime format. For visualization convience we would like to remove the leap year. Conduct the cleaning."
   ]
  },
  {
   "cell_type": "code",
   "execution_count": 4,
   "metadata": {
    "scrolled": true
   },
   "outputs": [],
   "source": [
    "#replace cells with spaces to NaN\n",
    "weatherDf = weatherDf.replace(\"     \", np.NaN)\n",
    "\n",
    "#change data formats\n",
    "weatherDf.iloc[:,2:] = weatherDf.iloc[:,2:].astype(np.dtype(\"float64\"))\n",
    "weatherDf.station = weatherDf['station'].astype(np.dtype(\"int64\"))\n",
    "\n",
    "#change temperatures to celcius degrees\n",
    "weatherDf.iloc[:,2:] = (weatherDf.iloc[:,2:] * 0.1).round(decimals=2)\n",
    "#remove leap year\n",
    "weatherDf = weatherDf[~((weatherDf.Date.dt.month == 2) & (weatherDf.Date.dt.day == 29))]\n",
    "weatherDf = weatherDf.set_index(['Date'])\n",
    "\n",
    "#seperate Leeuwarden weather information from the main data\n",
    "weatherDfLeeuwarden = weatherDf[weatherDf['station'].astype('i') == 270]\n",
    "\n"
   ]
  },
  {
   "cell_type": "markdown",
   "metadata": {},
   "source": [
    "<details>    \n",
    "<summary>\n",
    "    <font size=\"3\" color=\"darkgreen\"><b>Hints</b></font>\n",
    "</summary>\n",
    "<ul><li>pd.to_datetime(df['Date'].astype(str), format='%Y%m%d')</li>\n",
    "    <li>regex for empty cells = `^\\s*$` </li>\n",
    "    <li>remove month == 2 & day == 29</li> \n",
    "</ul>\n",
    "</details>"
   ]
  },
  {
   "cell_type": "code",
   "execution_count": 5,
   "metadata": {},
   "outputs": [
    {
     "name": "stdout",
     "output_type": "stream",
     "text": [
      "<class 'pandas.core.frame.DataFrame'>\n",
      "DatetimeIndex: 6935 entries, 2000-01-01 to 2018-12-31\n",
      "Data columns (total 4 columns):\n",
      " #   Column   Non-Null Count  Dtype  \n",
      "---  ------   --------------  -----  \n",
      " 0   station  6935 non-null   int64  \n",
      " 1   Tmean    6935 non-null   float64\n",
      " 2   Tmin     6935 non-null   float64\n",
      " 3   Tmax     6935 non-null   float64\n",
      "dtypes: float64(3), int64(1)\n",
      "memory usage: 270.9 KB\n"
     ]
    }
   ],
   "source": [
    "#Test your outcome\n",
    "#write code to check if you have done the above\n",
    "try:\n",
    "    weatherDfLeeuwarden.info()\n",
    "except:\n",
    "    print(\"weatherDf not properly loaded\")"
   ]
  },
  {
   "cell_type": "markdown",
   "metadata": {},
   "source": [
    "### Expected outcome"
   ]
  },
  {
   "cell_type": "raw",
   "metadata": {},
   "source": [
    "DatetimeIndex: 24820 entries, 1951-01-01 to 2018-12-31\n",
    "Data columns (total 5 columns):\n",
    " #   Column   Non-Null Count  Dtype         \n",
    "---  ------   --------------  -----         \n",
    " 0   station  24820 non-null  int64         \n",
    " 1   Date     24820 non-null  datetime64[ns]\n",
    " 2   Tmean    24819 non-null  float64       \n",
    " 3   Tmin     24819 non-null  float64       \n",
    " 4   Tmax     24819 non-null  float64       \n",
    "dtypes: datetime64[ns](1), float64(3), int64(1)\n",
    "memory usage: 1.1 MB"
   ]
  },
  {
   "cell_type": "markdown",
   "metadata": {},
   "source": [
    "---"
   ]
  },
  {
   "cell_type": "markdown",
   "metadata": {},
   "source": [
    "<a name='2'></a>\n",
    "## Part 3: Reform your data\n",
    "\n",
    "First we will split the data in data from 2018 and data before 2018. Best is to split this in two dataframes. \n",
    "Next we need for the non 2018 data the minimum values for each day and the maximum values for each day. So we look for the minimum value out of all january-01 minimum values (regardless the year). Create a dataframe with 365 days containing the ultimate minimum and the ultimate maximum per day. \n"
   ]
  },
  {
   "cell_type": "code",
   "execution_count": 6,
   "metadata": {},
   "outputs": [],
   "source": [
    "def month_day(df_multipleyears):\n",
    "    \"\"\"\n",
    "    input: data frame\n",
    "    explanation: this function makes group based on month and day \n",
    "    and find the total extermums\n",
    "    output:minimum data frame, maximum data frame\n",
    "    \"\"\"\n",
    "    minDf = pd.DataFrame(df_multipleyears.groupby([df_multipleyears.index.month,\n",
    "                                 df_multipleyears.index.day]).min())\n",
    "    \n",
    "    maxDf = pd.DataFrame(df_multipleyears.groupby([df_multipleyears.index.month, \n",
    "                                 df_multipleyears.index.day]).max()) \n",
    "    return minDf, maxDf"
   ]
  },
  {
   "cell_type": "code",
   "execution_count": 7,
   "metadata": {},
   "outputs": [],
   "source": [
    "\n",
    "def test_reformed(df):\n",
    "    #Test the code\n",
    "    df = df[(df.index.year > 2007) & (df.index.year < 2018)]   \n",
    "    return month_day(df)\n",
    "\n",
    "   \n"
   ]
  },
  {
   "cell_type": "code",
   "execution_count": 8,
   "metadata": {},
   "outputs": [
    {
     "data": {
      "text/plain": [
       "Date  Date\n",
       "1     1       -5.8\n",
       "      2       -7.5\n",
       "      3      -12.6\n",
       "      4       -4.1\n",
       "      5       -6.0\n",
       "              ... \n",
       "12    27      -4.8\n",
       "      28      -4.2\n",
       "      29      -6.7\n",
       "      30     -10.2\n",
       "      31     -10.6\n",
       "Name: Tmin, Length: 365, dtype: float64"
      ]
     },
     "execution_count": 8,
     "metadata": {},
     "output_type": "execute_result"
    }
   ],
   "source": [
    "after2018Df =  weatherDfLeeuwarden[weatherDfLeeuwarden.index.year == 2018]\n",
    "before2018Df = weatherDfLeeuwarden [weatherDfLeeuwarden.index.year != 2018]\n",
    "minBefore2018, maxBefore2018 = test_reformed(before2018Df)\n",
    "minBefore2018.Tmin"
   ]
  },
  {
   "cell_type": "markdown",
   "metadata": {},
   "source": [
    "<details>    \n",
    "<summary>\n",
    "    <font size=\"3\" color=\"darkgreen\"><b>Hints</b></font>\n",
    "</summary>\n",
    "<ul><li>use the dt.month and dt.day to groupby</li>\n",
    "</ul>\n",
    "</details>"
   ]
  },
  {
   "cell_type": "markdown",
   "metadata": {},
   "source": [
    "### Expected outcome\n",
    "Note, the layout or names my differ, but the length should be 365 and the minimum values should be the same"
   ]
  },
  {
   "cell_type": "raw",
   "metadata": {},
   "source": [
    "month  day\n",
    "1      1      -5.8\n",
    "       2      -7.5\n",
    "       3     -12.6\n",
    "       4      -4.1\n",
    "       5      -6.0\n",
    "              ... \n",
    "12     27     -4.8\n",
    "       28     -4.2\n",
    "       29     -6.7\n",
    "       30    -10.2\n",
    "       31    -10.6\n",
    "Name: Tmin, Length: 365, dtype: float64"
   ]
  },
  {
   "cell_type": "markdown",
   "metadata": {},
   "source": [
    "---"
   ]
  },
  {
   "cell_type": "markdown",
   "metadata": {},
   "source": [
    "<a name='3'></a>\n",
    "## Part 4: Smooth the data\n",
    "\n",
    "Make a function that takes an array or a dataframe column and returns an array of smoothed data. Explain in words why you choose a certain smoothing algoritm. Ask the signal analysis teacher if you want some advice.\n"
   ]
  },
  {
   "cell_type": "code",
   "execution_count": 9,
   "metadata": {},
   "outputs": [
    {
     "name": "stderr",
     "output_type": "stream",
     "text": [
      "c:\\Anaconda3\\lib\\site-packages\\statsmodels\\tsa\\base\\tsa_model.py:471: ValueWarning: An unsupported index was provided and will be ignored when e.g. forecasting.\n",
      "  self._init_dates(dates, freq)\n",
      "c:\\Anaconda3\\lib\\site-packages\\statsmodels\\tsa\\base\\tsa_model.py:471: ValueWarning: An unsupported index was provided and will be ignored when e.g. forecasting.\n",
      "  self._init_dates(dates, freq)\n"
     ]
    }
   ],
   "source": [
    "\n",
    "def data_smoother(df):\n",
    "\n",
    "    #calculate rolling mean\n",
    "    rollingMean = df.rolling(window=10).mean()\n",
    "    avg = df.loc[1].loc[:10].mean()\n",
    "    rollingMean.fillna(avg, inplace=True)\n",
    "\n",
    "    #calculate exponential smoothing technique\n",
    "    expSmoothing = SimpleExpSmoothing(df).fit(smoothing_level=0.2, optimized=False)\n",
    "\n",
    "    #calculate halt smoothing technique\n",
    "    holtSmoothing =Holt(df).fit()\n",
    "\n",
    "    return  expSmoothing, rollingMean, holtSmoothing\n",
    "    \n",
    "smoothMinBefore2018 = data_smoother(minBefore2018.Tmin)\n"
   ]
  },
  {
   "cell_type": "code",
   "execution_count": 10,
   "metadata": {},
   "outputs": [
    {
     "data": {
      "text/html": [
       "<div class=\"bk-root\">\n",
       "        <a href=\"https://bokeh.org\" target=\"_blank\" class=\"bk-logo bk-logo-small bk-logo-notebook\"></a>\n",
       "        <span id=\"1116\">Loading BokehJS ...</span>\n",
       "    </div>\n"
      ]
     },
     "metadata": {},
     "output_type": "display_data"
    },
    {
     "data": {
      "application/javascript": "(function(root) {\n  function now() {\n    return new Date();\n  }\n\n  const force = true;\n\n  if (typeof root._bokeh_onload_callbacks === \"undefined\" || force === true) {\n    root._bokeh_onload_callbacks = [];\n    root._bokeh_is_loading = undefined;\n  }\n\nconst JS_MIME_TYPE = 'application/javascript';\n  const HTML_MIME_TYPE = 'text/html';\n  const EXEC_MIME_TYPE = 'application/vnd.bokehjs_exec.v0+json';\n  const CLASS_NAME = 'output_bokeh rendered_html';\n\n  /**\n   * Render data to the DOM node\n   */\n  function render(props, node) {\n    const script = document.createElement(\"script\");\n    node.appendChild(script);\n  }\n\n  /**\n   * Handle when an output is cleared or removed\n   */\n  function handleClearOutput(event, handle) {\n    const cell = handle.cell;\n\n    const id = cell.output_area._bokeh_element_id;\n    const server_id = cell.output_area._bokeh_server_id;\n    // Clean up Bokeh references\n    if (id != null && id in Bokeh.index) {\n      Bokeh.index[id].model.document.clear();\n      delete Bokeh.index[id];\n    }\n\n    if (server_id !== undefined) {\n      // Clean up Bokeh references\n      const cmd_clean = \"from bokeh.io.state import curstate; print(curstate().uuid_to_server['\" + server_id + \"'].get_sessions()[0].document.roots[0]._id)\";\n      cell.notebook.kernel.execute(cmd_clean, {\n        iopub: {\n          output: function(msg) {\n            const id = msg.content.text.trim();\n            if (id in Bokeh.index) {\n              Bokeh.index[id].model.document.clear();\n              delete Bokeh.index[id];\n            }\n          }\n        }\n      });\n      // Destroy server and session\n      const cmd_destroy = \"import bokeh.io.notebook as ion; ion.destroy_server('\" + server_id + \"')\";\n      cell.notebook.kernel.execute(cmd_destroy);\n    }\n  }\n\n  /**\n   * Handle when a new output is added\n   */\n  function handleAddOutput(event, handle) {\n    const output_area = handle.output_area;\n    const output = handle.output;\n\n    // limit handleAddOutput to display_data with EXEC_MIME_TYPE content only\n    if ((output.output_type != \"display_data\") || (!Object.prototype.hasOwnProperty.call(output.data, EXEC_MIME_TYPE))) {\n      return\n    }\n\n    const toinsert = output_area.element.find(\".\" + CLASS_NAME.split(' ')[0]);\n\n    if (output.metadata[EXEC_MIME_TYPE][\"id\"] !== undefined) {\n      toinsert[toinsert.length - 1].firstChild.textContent = output.data[JS_MIME_TYPE];\n      // store reference to embed id on output_area\n      output_area._bokeh_element_id = output.metadata[EXEC_MIME_TYPE][\"id\"];\n    }\n    if (output.metadata[EXEC_MIME_TYPE][\"server_id\"] !== undefined) {\n      const bk_div = document.createElement(\"div\");\n      bk_div.innerHTML = output.data[HTML_MIME_TYPE];\n      const script_attrs = bk_div.children[0].attributes;\n      for (let i = 0; i < script_attrs.length; i++) {\n        toinsert[toinsert.length - 1].firstChild.setAttribute(script_attrs[i].name, script_attrs[i].value);\n        toinsert[toinsert.length - 1].firstChild.textContent = bk_div.children[0].textContent\n      }\n      // store reference to server id on output_area\n      output_area._bokeh_server_id = output.metadata[EXEC_MIME_TYPE][\"server_id\"];\n    }\n  }\n\n  function register_renderer(events, OutputArea) {\n\n    function append_mime(data, metadata, element) {\n      // create a DOM node to render to\n      const toinsert = this.create_output_subarea(\n        metadata,\n        CLASS_NAME,\n        EXEC_MIME_TYPE\n      );\n      this.keyboard_manager.register_events(toinsert);\n      // Render to node\n      const props = {data: data, metadata: metadata[EXEC_MIME_TYPE]};\n      render(props, toinsert[toinsert.length - 1]);\n      element.append(toinsert);\n      return toinsert\n    }\n\n    /* Handle when an output is cleared or removed */\n    events.on('clear_output.CodeCell', handleClearOutput);\n    events.on('delete.Cell', handleClearOutput);\n\n    /* Handle when a new output is added */\n    events.on('output_added.OutputArea', handleAddOutput);\n\n    /**\n     * Register the mime type and append_mime function with output_area\n     */\n    OutputArea.prototype.register_mime_type(EXEC_MIME_TYPE, append_mime, {\n      /* Is output safe? */\n      safe: true,\n      /* Index of renderer in `output_area.display_order` */\n      index: 0\n    });\n  }\n\n  // register the mime type if in Jupyter Notebook environment and previously unregistered\n  if (root.Jupyter !== undefined) {\n    const events = require('base/js/events');\n    const OutputArea = require('notebook/js/outputarea').OutputArea;\n\n    if (OutputArea.prototype.mime_types().indexOf(EXEC_MIME_TYPE) == -1) {\n      register_renderer(events, OutputArea);\n    }\n  }\n  if (typeof (root._bokeh_timeout) === \"undefined\" || force === true) {\n    root._bokeh_timeout = Date.now() + 5000;\n    root._bokeh_failed_load = false;\n  }\n\n  const NB_LOAD_WARNING = {'data': {'text/html':\n     \"<div style='background-color: #fdd'>\\n\"+\n     \"<p>\\n\"+\n     \"BokehJS does not appear to have successfully loaded. If loading BokehJS from CDN, this \\n\"+\n     \"may be due to a slow or bad network connection. Possible fixes:\\n\"+\n     \"</p>\\n\"+\n     \"<ul>\\n\"+\n     \"<li>re-rerun `output_notebook()` to attempt to load from CDN again, or</li>\\n\"+\n     \"<li>use INLINE resources instead, as so:</li>\\n\"+\n     \"</ul>\\n\"+\n     \"<code>\\n\"+\n     \"from bokeh.resources import INLINE\\n\"+\n     \"output_notebook(resources=INLINE)\\n\"+\n     \"</code>\\n\"+\n     \"</div>\"}};\n\n  function display_loaded() {\n    const el = document.getElementById(\"1116\");\n    if (el != null) {\n      el.textContent = \"BokehJS is loading...\";\n    }\n    if (root.Bokeh !== undefined) {\n      if (el != null) {\n        el.textContent = \"BokehJS \" + root.Bokeh.version + \" successfully loaded.\";\n      }\n    } else if (Date.now() < root._bokeh_timeout) {\n      setTimeout(display_loaded, 100)\n    }\n  }\n\n  function run_callbacks() {\n    try {\n      root._bokeh_onload_callbacks.forEach(function(callback) {\n        if (callback != null)\n          callback();\n      });\n    } finally {\n      delete root._bokeh_onload_callbacks\n    }\n    console.debug(\"Bokeh: all callbacks have finished\");\n  }\n\n  function load_libs(css_urls, js_urls, callback) {\n    if (css_urls == null) css_urls = [];\n    if (js_urls == null) js_urls = [];\n\n    root._bokeh_onload_callbacks.push(callback);\n    if (root._bokeh_is_loading > 0) {\n      console.debug(\"Bokeh: BokehJS is being loaded, scheduling callback at\", now());\n      return null;\n    }\n    if (js_urls == null || js_urls.length === 0) {\n      run_callbacks();\n      return null;\n    }\n    console.debug(\"Bokeh: BokehJS not loaded, scheduling load and callback at\", now());\n    root._bokeh_is_loading = css_urls.length + js_urls.length;\n\n    function on_load() {\n      root._bokeh_is_loading--;\n      if (root._bokeh_is_loading === 0) {\n        console.debug(\"Bokeh: all BokehJS libraries/stylesheets loaded\");\n        run_callbacks()\n      }\n    }\n\n    function on_error(url) {\n      console.error(\"failed to load \" + url);\n    }\n\n    for (let i = 0; i < css_urls.length; i++) {\n      const url = css_urls[i];\n      const element = document.createElement(\"link\");\n      element.onload = on_load;\n      element.onerror = on_error.bind(null, url);\n      element.rel = \"stylesheet\";\n      element.type = \"text/css\";\n      element.href = url;\n      console.debug(\"Bokeh: injecting link tag for BokehJS stylesheet: \", url);\n      document.body.appendChild(element);\n    }\n\n    for (let i = 0; i < js_urls.length; i++) {\n      const url = js_urls[i];\n      const element = document.createElement('script');\n      element.onload = on_load;\n      element.onerror = on_error.bind(null, url);\n      element.async = false;\n      element.src = url;\n      console.debug(\"Bokeh: injecting script tag for BokehJS library: \", url);\n      document.head.appendChild(element);\n    }\n  };\n\n  function inject_raw_css(css) {\n    const element = document.createElement(\"style\");\n    element.appendChild(document.createTextNode(css));\n    document.body.appendChild(element);\n  }\n\n  const js_urls = [\"https://cdn.bokeh.org/bokeh/release/bokeh-2.4.3.min.js\", \"https://cdn.bokeh.org/bokeh/release/bokeh-gl-2.4.3.min.js\", \"https://cdn.bokeh.org/bokeh/release/bokeh-widgets-2.4.3.min.js\", \"https://cdn.bokeh.org/bokeh/release/bokeh-tables-2.4.3.min.js\", \"https://cdn.bokeh.org/bokeh/release/bokeh-mathjax-2.4.3.min.js\", \"https://unpkg.com/@holoviz/panel@0.13.1/dist/panel.min.js\"];\n  const css_urls = [];\n\n  const inline_js = [    function(Bokeh) {\n      Bokeh.set_log_level(\"info\");\n    },\nfunction(Bokeh) {\n    }\n  ];\n\n  function run_inline_js() {\n    if (root.Bokeh !== undefined || force === true) {\n          for (let i = 0; i < inline_js.length; i++) {\n      inline_js[i].call(root, root.Bokeh);\n    }\nif (force === true) {\n        display_loaded();\n      }} else if (Date.now() < root._bokeh_timeout) {\n      setTimeout(run_inline_js, 100);\n    } else if (!root._bokeh_failed_load) {\n      console.log(\"Bokeh: BokehJS failed to load within specified timeout.\");\n      root._bokeh_failed_load = true;\n    } else if (force !== true) {\n      const cell = $(document.getElementById(\"1116\")).parents('.cell').data().cell;\n      cell.output_area.append_execute_result(NB_LOAD_WARNING)\n    }\n  }\n\n  if (root._bokeh_is_loading === 0) {\n    console.debug(\"Bokeh: BokehJS loaded, going straight to plotting\");\n    run_inline_js();\n  } else {\n    load_libs(css_urls, js_urls, function() {\n      console.debug(\"Bokeh: BokehJS plotting callback run at\", now());\n      run_inline_js();\n    });\n  }\n}(window));",
      "application/vnd.bokehjs_load.v0+json": ""
     },
     "metadata": {},
     "output_type": "display_data"
    },
    {
     "data": {
      "text/html": [
       "\n",
       "  <div class=\"bk-root\" id=\"9f77d41b-55a2-4c2a-9b9f-a1c59e60e41e\" data-root-id=\"1002\"></div>\n"
      ]
     },
     "metadata": {},
     "output_type": "display_data"
    },
    {
     "data": {
      "application/javascript": "(function(root) {\n  function embed_document(root) {\n  const docs_json = {\"37aa686b-56fe-4f77-9cc9-d497147c68a3\":{\"defs\":[{\"extends\":null,\"module\":null,\"name\":\"ReactiveHTML1\",\"overrides\":[],\"properties\":[]},{\"extends\":null,\"module\":null,\"name\":\"FlexBox1\",\"overrides\":[],\"properties\":[{\"default\":\"flex-start\",\"kind\":null,\"name\":\"align_content\"},{\"default\":\"flex-start\",\"kind\":null,\"name\":\"align_items\"},{\"default\":\"row\",\"kind\":null,\"name\":\"flex_direction\"},{\"default\":\"wrap\",\"kind\":null,\"name\":\"flex_wrap\"},{\"default\":\"flex-start\",\"kind\":null,\"name\":\"justify_content\"}]},{\"extends\":null,\"module\":null,\"name\":\"GridStack1\",\"overrides\":[],\"properties\":[{\"default\":\"warn\",\"kind\":null,\"name\":\"mode\"},{\"default\":null,\"kind\":null,\"name\":\"ncols\"},{\"default\":null,\"kind\":null,\"name\":\"nrows\"},{\"default\":true,\"kind\":null,\"name\":\"allow_resize\"},{\"default\":true,\"kind\":null,\"name\":\"allow_drag\"},{\"default\":[],\"kind\":null,\"name\":\"state\"}]},{\"extends\":null,\"module\":null,\"name\":\"click1\",\"overrides\":[],\"properties\":[{\"default\":\"\",\"kind\":null,\"name\":\"terminal_output\"},{\"default\":\"\",\"kind\":null,\"name\":\"debug_name\"},{\"default\":0,\"kind\":null,\"name\":\"clears\"}]},{\"extends\":null,\"module\":null,\"name\":\"NotificationAreaBase1\",\"overrides\":[],\"properties\":[{\"default\":\"bottom-right\",\"kind\":null,\"name\":\"position\"},{\"default\":0,\"kind\":null,\"name\":\"_clear\"}]},{\"extends\":null,\"module\":null,\"name\":\"NotificationArea1\",\"overrides\":[],\"properties\":[{\"default\":[],\"kind\":null,\"name\":\"notifications\"},{\"default\":\"bottom-right\",\"kind\":null,\"name\":\"position\"},{\"default\":0,\"kind\":null,\"name\":\"_clear\"},{\"default\":[{\"background\":\"#ffc107\",\"icon\":{\"className\":\"fas fa-exclamation-triangle\",\"color\":\"white\",\"tagName\":\"i\"},\"type\":\"warning\"},{\"background\":\"#007bff\",\"icon\":{\"className\":\"fas fa-info-circle\",\"color\":\"white\",\"tagName\":\"i\"},\"type\":\"info\"}],\"kind\":null,\"name\":\"types\"}]},{\"extends\":null,\"module\":null,\"name\":\"Notification\",\"overrides\":[],\"properties\":[{\"default\":null,\"kind\":null,\"name\":\"background\"},{\"default\":3000,\"kind\":null,\"name\":\"duration\"},{\"default\":null,\"kind\":null,\"name\":\"icon\"},{\"default\":\"\",\"kind\":null,\"name\":\"message\"},{\"default\":null,\"kind\":null,\"name\":\"notification_type\"},{\"default\":false,\"kind\":null,\"name\":\"_destroyed\"}]},{\"extends\":null,\"module\":null,\"name\":\"TemplateActions1\",\"overrides\":[],\"properties\":[{\"default\":0,\"kind\":null,\"name\":\"open_modal\"},{\"default\":0,\"kind\":null,\"name\":\"close_modal\"}]},{\"extends\":null,\"module\":null,\"name\":\"MaterialTemplateActions1\",\"overrides\":[],\"properties\":[{\"default\":0,\"kind\":null,\"name\":\"open_modal\"},{\"default\":0,\"kind\":null,\"name\":\"close_modal\"}]}],\"roots\":{\"references\":[{\"attributes\":{\"below\":[{\"id\":\"1013\"}],\"center\":[{\"id\":\"1016\"},{\"id\":\"1020\"},{\"id\":\"1051\"}],\"left\":[{\"id\":\"1017\"}],\"renderers\":[{\"id\":\"1039\"},{\"id\":\"1057\"},{\"id\":\"1076\"},{\"id\":\"1097\"}],\"title\":{\"id\":\"1003\"},\"toolbar\":{\"id\":\"1028\"},\"width\":1000,\"x_range\":{\"id\":\"1005\"},\"x_scale\":{\"id\":\"1009\"},\"y_range\":{\"id\":\"1007\"},\"y_scale\":{\"id\":\"1011\"}},\"id\":\"1002\",\"subtype\":\"Figure\",\"type\":\"Plot\"},{\"attributes\":{},\"id\":\"1089\",\"type\":\"UnionRenderers\"},{\"attributes\":{\"data\":{\"x\":[0,1,2,3,4,5,6,7,8,9,10,11,12,13,14,15,16,17,18,19,20,21,22,23,24,25,26,27,28,29,30,31,32,33,34,35,36,37,38,39,40,41,42,43,44,45,46,47,48,49,50,51,52,53,54,55,56,57,58,59,60,61,62,63,64,65,66,67,68,69,70,71,72,73,74,75,76,77,78,79,80,81,82,83,84,85,86,87,88,89,90,91,92,93,94,95,96,97,98,99,100,101,102,103,104,105,106,107,108,109,110,111,112,113,114,115,116,117,118,119,120,121,122,123,124,125,126,127,128,129,130,131,132,133,134,135,136,137,138,139,140,141,142,143,144,145,146,147,148,149,150,151,152,153,154,155,156,157,158,159,160,161,162,163,164,165,166,167,168,169,170,171,172,173,174,175,176,177,178,179,180,181,182,183,184,185,186,187,188,189,190,191,192,193,194,195,196,197,198,199,200,201,202,203,204,205,206,207,208,209,210,211,212,213,214,215,216,217,218,219,220,221,222,223,224,225,226,227,228,229,230,231,232,233,234,235,236,237,238,239,240,241,242,243,244,245,246,247,248,249,250,251,252,253,254,255,256,257,258,259,260,261,262,263,264,265,266,267,268,269,270,271,272,273,274,275,276,277,278,279,280,281,282,283,284,285,286,287,288,289,290,291,292,293,294,295,296,297,298,299,300,301,302,303,304,305,306,307,308,309,310,311,312,313,314,315,316,317,318,319,320,321,322,323,324,325,326,327,328,329,330,331,332,333,334,335,336,337,338,339,340,341,342,343,344,345,346,347,348,349,350,351,352,353,354,355,356,357,358,359,360,361,362,363,364],\"y\":{\"__ndarray__\":\"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\",\"dtype\":\"float64\",\"order\":\"little\",\"shape\":[365]}},\"selected\":{\"id\":\"1069\"},\"selection_policy\":{\"id\":\"1068\"}},\"id\":\"1053\",\"type\":\"ColumnDataSource\"},{\"attributes\":{\"line_color\":\"green\",\"x\":{\"field\":\"x\"},\"y\":{\"field\":\"y\"}},\"id\":\"1073\",\"type\":\"Line\"},{\"attributes\":{\"data\":{\"x\":[0,1,2,3,4,5,6,7,8,9,10,11,12,13,14,15,16,17,18,19,20,21,22,23,24,25,26,27,28,29,30,31,32,33,34,35,36,37,38,39,40,41,42,43,44,45,46,47,48,49,50,51,52,53,54,55,56,57,58,59,60,61,62,63,64,65,66,67,68,69,70,71,72,73,74,75,76,77,78,79,80,81,82,83,84,85,86,87,88,89,90,91,92,93,94,95,96,97,98,99,100,101,102,103,104,105,106,107,108,109,110,111,112,113,114,115,116,117,118,119,120,121,122,123,124,125,126,127,128,129,130,131,132,133,134,135,136,137,138,139,140,141,142,143,144,145,146,147,148,149,150,151,152,153,154,155,156,157,158,159,160,161,162,163,164,165,166,167,168,169,170,171,172,173,174,175,176,177,178,179,180,181,182,183,184,185,186,187,188,189,190,191,192,193,194,195,196,197,198,199,200,201,202,203,204,205,206,207,208,209,210,211,212,213,214,215,216,217,218,219,220,221,222,223,224,225,226,227,228,229,230,231,232,233,234,235,236,237,238,239,240,241,242,243,244,245,246,247,248,249,250,251,252,253,254,255,256,257,258,259,260,261,262,263,264,265,266,267,268,269,270,271,272,273,274,275,276,277,278,279,280,281,282,283,284,285,286,287,288,289,290,291,292,293,294,295,296,297,298,299,300,301,302,303,304,305,306,307,308,309,310,311,312,313,314,315,316,317,318,319,320,321,322,323,324,325,326,327,328,329,330,331,332,333,334,335,336,337,338,339,340,341,342,343,344,345,346,347,348,349,350,351,352,353,354,355,356,357,358,359,360,361,362,363,364],\"y\":{\"__ndarray__\":\"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\",\"dtype\":\"float64\",\"order\":\"little\",\"shape\":[365]}},\"selected\":{\"id\":\"1090\"},\"selection_policy\":{\"id\":\"1089\"}},\"id\":\"1072\",\"type\":\"ColumnDataSource\"},{\"attributes\":{\"line_color\":\"red\",\"x\":{\"field\":\"x\"},\"y\":{\"field\":\"y\"}},\"id\":\"1036\",\"type\":\"Line\"},{\"attributes\":{\"label\":{\"value\":\"main line\"},\"renderers\":[{\"id\":\"1039\"}]},\"id\":\"1052\",\"type\":\"LegendItem\"},{\"attributes\":{},\"id\":\"1047\",\"type\":\"AllLabels\"},{\"attributes\":{\"tools\":[{\"id\":\"1021\"},{\"id\":\"1022\"},{\"id\":\"1023\"},{\"id\":\"1024\"},{\"id\":\"1025\"},{\"id\":\"1026\"}]},\"id\":\"1028\",\"type\":\"Toolbar\"},{\"attributes\":{\"source\":{\"id\":\"1093\"}},\"id\":\"1098\",\"type\":\"CDSView\"},{\"attributes\":{\"bottom_units\":\"screen\",\"coordinates\":null,\"fill_alpha\":0.5,\"fill_color\":\"lightgrey\",\"group\":null,\"left_units\":\"screen\",\"level\":\"overlay\",\"line_alpha\":1.0,\"line_color\":\"black\",\"line_dash\":[4,4],\"line_width\":2,\"right_units\":\"screen\",\"syncable\":false,\"top_units\":\"screen\"},\"id\":\"1027\",\"type\":\"BoxAnnotation\"},{\"attributes\":{\"coordinates\":null,\"data_source\":{\"id\":\"1053\"},\"glyph\":{\"id\":\"1054\"},\"group\":null,\"hover_glyph\":null,\"muted_glyph\":{\"id\":\"1056\"},\"nonselection_glyph\":{\"id\":\"1055\"},\"view\":{\"id\":\"1058\"}},\"id\":\"1057\",\"type\":\"GlyphRenderer\"},{\"attributes\":{},\"id\":\"1025\",\"type\":\"ResetTool\"},{\"attributes\":{\"data\":{\"x\":[0,1,2,3,4,5,6,7,8,9,10,11,12,13,14,15,16,17,18,19,20,21,22,23,24,25,26,27,28,29,30,31,32,33,34,35,36,37,38,39,40,41,42,43,44,45,46,47,48,49,50,51,52,53,54,55,56,57,58,59,60,61,62,63,64,65,66,67,68,69,70,71,72,73,74,75,76,77,78,79,80,81,82,83,84,85,86,87,88,89,90,91,92,93,94,95,96,97,98,99,100,101,102,103,104,105,106,107,108,109,110,111,112,113,114,115,116,117,118,119,120,121,122,123,124,125,126,127,128,129,130,131,132,133,134,135,136,137,138,139,140,141,142,143,144,145,146,147,148,149,150,151,152,153,154,155,156,157,158,159,160,161,162,163,164,165,166,167,168,169,170,171,172,173,174,175,176,177,178,179,180,181,182,183,184,185,186,187,188,189,190,191,192,193,194,195,196,197,198,199,200,201,202,203,204,205,206,207,208,209,210,211,212,213,214,215,216,217,218,219,220,221,222,223,224,225,226,227,228,229,230,231,232,233,234,235,236,237,238,239,240,241,242,243,244,245,246,247,248,249,250,251,252,253,254,255,256,257,258,259,260,261,262,263,264,265,266,267,268,269,270,271,272,273,274,275,276,277,278,279,280,281,282,283,284,285,286,287,288,289,290,291,292,293,294,295,296,297,298,299,300,301,302,303,304,305,306,307,308,309,310,311,312,313,314,315,316,317,318,319,320,321,322,323,324,325,326,327,328,329,330,331,332,333,334,335,336,337,338,339,340,341,342,343,344,345,346,347,348,349,350,351,352,353,354,355,356,357,358,359,360,361,362,363,364],\"y\":{\"__ndarray__\":\"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\",\"dtype\":\"float64\",\"order\":\"little\",\"shape\":[365]}},\"selected\":{\"id\":\"1113\"},\"selection_policy\":{\"id\":\"1112\"}},\"id\":\"1093\",\"type\":\"ColumnDataSource\"},{\"attributes\":{},\"id\":\"1024\",\"type\":\"SaveTool\"},{\"attributes\":{\"x\":{\"field\":\"x\"},\"y\":{\"field\":\"y\"}},\"id\":\"1094\",\"type\":\"Line\"},{\"attributes\":{\"overlay\":{\"id\":\"1027\"}},\"id\":\"1023\",\"type\":\"BoxZoomTool\"},{\"attributes\":{},\"id\":\"1021\",\"type\":\"PanTool\"},{\"attributes\":{},\"id\":\"1026\",\"type\":\"HelpTool\"},{\"attributes\":{\"line_alpha\":0.2,\"line_color\":\"blue\",\"x\":{\"field\":\"x\"},\"y\":{\"field\":\"y\"}},\"id\":\"1056\",\"type\":\"Line\"},{\"attributes\":{\"coordinates\":null,\"data_source\":{\"id\":\"1035\"},\"glyph\":{\"id\":\"1036\"},\"group\":null,\"hover_glyph\":null,\"muted_glyph\":{\"id\":\"1038\"},\"nonselection_glyph\":{\"id\":\"1037\"},\"view\":{\"id\":\"1040\"}},\"id\":\"1039\",\"type\":\"GlyphRenderer\"},{\"attributes\":{},\"id\":\"1018\",\"type\":\"BasicTicker\"},{\"attributes\":{\"axis\":{\"id\":\"1017\"},\"coordinates\":null,\"dimension\":1,\"group\":null,\"ticker\":null},\"id\":\"1020\",\"type\":\"Grid\"},{\"attributes\":{\"line_alpha\":0.1,\"line_color\":\"blue\",\"x\":{\"field\":\"x\"},\"y\":{\"field\":\"y\"}},\"id\":\"1055\",\"type\":\"Line\"},{\"attributes\":{},\"id\":\"1044\",\"type\":\"AllLabels\"},{\"attributes\":{\"source\":{\"id\":\"1053\"}},\"id\":\"1058\",\"type\":\"CDSView\"},{\"attributes\":{\"label\":{\"value\":\"halt smooth line\"},\"renderers\":[{\"id\":\"1097\"}]},\"id\":\"1115\",\"type\":\"LegendItem\"},{\"attributes\":{\"coordinates\":null,\"data_source\":{\"id\":\"1072\"},\"glyph\":{\"id\":\"1073\"},\"group\":null,\"hover_glyph\":null,\"muted_glyph\":{\"id\":\"1075\"},\"nonselection_glyph\":{\"id\":\"1074\"},\"view\":{\"id\":\"1077\"}},\"id\":\"1076\",\"type\":\"GlyphRenderer\"},{\"attributes\":{\"coordinates\":null,\"data_source\":{\"id\":\"1093\"},\"glyph\":{\"id\":\"1094\"},\"group\":null,\"hover_glyph\":null,\"muted_glyph\":{\"id\":\"1096\"},\"nonselection_glyph\":{\"id\":\"1095\"},\"view\":{\"id\":\"1098\"}},\"id\":\"1097\",\"type\":\"GlyphRenderer\"},{\"attributes\":{\"coordinates\":null,\"group\":null,\"items\":[{\"id\":\"1052\"},{\"id\":\"1071\"},{\"id\":\"1092\"},{\"id\":\"1115\"}]},\"id\":\"1051\",\"type\":\"Legend\"},{\"attributes\":{\"data\":{\"x\":[0,1,2,3,4,5,6,7,8,9,10,11,12,13,14,15,16,17,18,19,20,21,22,23,24,25,26,27,28,29,30,31,32,33,34,35,36,37,38,39,40,41,42,43,44,45,46,47,48,49,50,51,52,53,54,55,56,57,58,59,60,61,62,63,64,65,66,67,68,69,70,71,72,73,74,75,76,77,78,79,80,81,82,83,84,85,86,87,88,89,90,91,92,93,94,95,96,97,98,99,100,101,102,103,104,105,106,107,108,109,110,111,112,113,114,115,116,117,118,119,120,121,122,123,124,125,126,127,128,129,130,131,132,133,134,135,136,137,138,139,140,141,142,143,144,145,146,147,148,149,150,151,152,153,154,155,156,157,158,159,160,161,162,163,164,165,166,167,168,169,170,171,172,173,174,175,176,177,178,179,180,181,182,183,184,185,186,187,188,189,190,191,192,193,194,195,196,197,198,199,200,201,202,203,204,205,206,207,208,209,210,211,212,213,214,215,216,217,218,219,220,221,222,223,224,225,226,227,228,229,230,231,232,233,234,235,236,237,238,239,240,241,242,243,244,245,246,247,248,249,250,251,252,253,254,255,256,257,258,259,260,261,262,263,264,265,266,267,268,269,270,271,272,273,274,275,276,277,278,279,280,281,282,283,284,285,286,287,288,289,290,291,292,293,294,295,296,297,298,299,300,301,302,303,304,305,306,307,308,309,310,311,312,313,314,315,316,317,318,319,320,321,322,323,324,325,326,327,328,329,330,331,332,333,334,335,336,337,338,339,340,341,342,343,344,345,346,347,348,349,350,351,352,353,354,355,356,357,358,359,360,361,362,363,364],\"y\":{\"__ndarray__\":\"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\",\"dtype\":\"float64\",\"order\":\"little\",\"shape\":[365]}},\"selected\":{\"id\":\"1049\"},\"selection_policy\":{\"id\":\"1048\"}},\"id\":\"1035\",\"type\":\"ColumnDataSource\"},{\"attributes\":{\"line_alpha\":0.1,\"line_color\":\"green\",\"x\":{\"field\":\"x\"},\"y\":{\"field\":\"y\"}},\"id\":\"1074\",\"type\":\"Line\"},{\"attributes\":{\"line_alpha\":0.2,\"line_color\":\"green\",\"x\":{\"field\":\"x\"},\"y\":{\"field\":\"y\"}},\"id\":\"1075\",\"type\":\"Line\"},{\"attributes\":{\"source\":{\"id\":\"1072\"}},\"id\":\"1077\",\"type\":\"CDSView\"},{\"attributes\":{\"label\":{\"value\":\"exp. smooth line\"},\"renderers\":[{\"id\":\"1057\"}]},\"id\":\"1071\",\"type\":\"LegendItem\"},{\"attributes\":{\"line_alpha\":0.2,\"line_color\":\"red\",\"x\":{\"field\":\"x\"},\"y\":{\"field\":\"y\"}},\"id\":\"1038\",\"type\":\"Line\"},{\"attributes\":{\"line_color\":\"blue\",\"x\":{\"field\":\"x\"},\"y\":{\"field\":\"y\"}},\"id\":\"1054\",\"type\":\"Line\"},{\"attributes\":{},\"id\":\"1048\",\"type\":\"UnionRenderers\"},{\"attributes\":{},\"id\":\"1007\",\"type\":\"DataRange1d\"},{\"attributes\":{},\"id\":\"1046\",\"type\":\"BasicTickFormatter\"},{\"attributes\":{\"label\":{\"value\":\"rolling mean line\"},\"renderers\":[{\"id\":\"1076\"}]},\"id\":\"1092\",\"type\":\"LegendItem\"},{\"attributes\":{\"line_alpha\":0.1,\"line_color\":\"red\",\"x\":{\"field\":\"x\"},\"y\":{\"field\":\"y\"}},\"id\":\"1037\",\"type\":\"Line\"},{\"attributes\":{},\"id\":\"1068\",\"type\":\"UnionRenderers\"},{\"attributes\":{},\"id\":\"1005\",\"type\":\"DataRange1d\"},{\"attributes\":{\"line_alpha\":0.2,\"x\":{\"field\":\"x\"},\"y\":{\"field\":\"y\"}},\"id\":\"1096\",\"type\":\"Line\"},{\"attributes\":{},\"id\":\"1069\",\"type\":\"Selection\"},{\"attributes\":{},\"id\":\"1090\",\"type\":\"Selection\"},{\"attributes\":{},\"id\":\"1009\",\"type\":\"LinearScale\"},{\"attributes\":{\"line_alpha\":0.1,\"x\":{\"field\":\"x\"},\"y\":{\"field\":\"y\"}},\"id\":\"1095\",\"type\":\"Line\"},{\"attributes\":{\"coordinates\":null,\"group\":null,\"text\":\"Smooth line\"},\"id\":\"1003\",\"type\":\"Title\"},{\"attributes\":{\"source\":{\"id\":\"1035\"}},\"id\":\"1040\",\"type\":\"CDSView\"},{\"attributes\":{},\"id\":\"1014\",\"type\":\"BasicTicker\"},{\"attributes\":{\"axis\":{\"id\":\"1013\"},\"coordinates\":null,\"group\":null,\"ticker\":null},\"id\":\"1016\",\"type\":\"Grid\"},{\"attributes\":{},\"id\":\"1112\",\"type\":\"UnionRenderers\"},{\"attributes\":{},\"id\":\"1011\",\"type\":\"LinearScale\"},{\"attributes\":{\"axis_label\":\"x\",\"coordinates\":null,\"formatter\":{\"id\":\"1046\"},\"group\":null,\"major_label_policy\":{\"id\":\"1047\"},\"ticker\":{\"id\":\"1014\"}},\"id\":\"1013\",\"type\":\"LinearAxis\"},{\"attributes\":{},\"id\":\"1113\",\"type\":\"Selection\"},{\"attributes\":{\"axis_label\":\"y\",\"coordinates\":null,\"formatter\":{\"id\":\"1043\"},\"group\":null,\"major_label_policy\":{\"id\":\"1044\"},\"ticker\":{\"id\":\"1018\"}},\"id\":\"1017\",\"type\":\"LinearAxis\"},{\"attributes\":{},\"id\":\"1043\",\"type\":\"BasicTickFormatter\"},{\"attributes\":{},\"id\":\"1049\",\"type\":\"Selection\"},{\"attributes\":{},\"id\":\"1022\",\"type\":\"WheelZoomTool\"}],\"root_ids\":[\"1002\"]},\"title\":\"Bokeh Application\",\"version\":\"2.4.3\"}};\n  const render_items = [{\"docid\":\"37aa686b-56fe-4f77-9cc9-d497147c68a3\",\"root_ids\":[\"1002\"],\"roots\":{\"1002\":\"9f77d41b-55a2-4c2a-9b9f-a1c59e60e41e\"}}];\n  root.Bokeh.embed.embed_items_notebook(docs_json, render_items);\n  }\n  if (root.Bokeh !== undefined) {\n    embed_document(root);\n  } else {\n    let attempts = 0;\n    const timer = setInterval(function(root) {\n      if (root.Bokeh !== undefined) {\n        clearInterval(timer);\n        embed_document(root);\n      } else {\n        attempts++;\n        if (attempts > 100) {\n          clearInterval(timer);\n          console.log(\"Bokeh: ERROR: Unable to run BokehJS code because BokehJS library is missing\");\n        }\n      }\n    }, 10, root)\n  }\n})(window);",
      "application/vnd.bokehjs_exec.v0+json": ""
     },
     "metadata": {
      "application/vnd.bokehjs_exec.v0+json": {
       "id": "1002"
      }
     },
     "output_type": "display_data"
    }
   ],
   "source": [
    "#plot different smoothed data and the main data to compare which on \n",
    "#can preent the data more properly.\n",
    "fig = figure(title=f'Smooth line', plot_width=1000, plot_height=600, \n",
    "             x_axis_label='x', y_axis_label='y')\n",
    "\n",
    "fig.line(x=range(0,len(minBefore2018.Tmin)), y=minBefore2018.Tmin, \n",
    "         legend_label= 'main line', line_width=1, color='red')\n",
    "\n",
    "fig.line(x=range(0,len(minBefore2018.Tmin)), y=smoothMinBefore2018[0].fittedvalues, \n",
    "         legend_label= 'exp. smooth line', line_width=1, color='blue')\n",
    "\n",
    "fig.line(x=range(0,len(minBefore2018.Tmin)), y=smoothMinBefore2018[1], \n",
    "         legend_label= 'rolling mean line', line_width=1, color='green')\n",
    "\n",
    "fig.line(x=range(0,len(minBefore2018.Tmin)), y=smoothMinBefore2018[2].fittedvalues, \n",
    "         legend_label= 'halt smooth line', line_width=1, color='black')\n",
    "\n",
    "output_notebook()\n",
    "show(fig)"
   ]
  },
  {
   "attachments": {},
   "cell_type": "markdown",
   "metadata": {},
   "source": [
    "#your motivation here\n",
    "These are all possible smoothing techniques. but the one that I think is the best one in this question is the exponential technique. Because it smooth the data properly in comparison with other techniques. we cannot use exponential halt technique here due to the existance of zero in the denumerator, also linear halt cannot smooth the data in a proper way. in order to get a proper reault from rolling mean, we should make window equal to 10 which means we loose ten first data. so the most proper one is exponential technique."
   ]
  },
  {
   "cell_type": "markdown",
   "metadata": {},
   "source": [
    "---"
   ]
  },
  {
   "cell_type": "markdown",
   "metadata": {},
   "source": [
    "<a name='4'></a>\n",
    "## Part 5: Visualize the data"
   ]
  },
  {
   "cell_type": "markdown",
   "metadata": {},
   "source": [
    "Plot the mean temperature of the year 2018. Create a shaded band with the ultimate minimum values and the ultimate maximum values from the multi-year dataset. Add labels, titles and legends. Use proper ranges. Be creative to make the plot attractive. \n",
    "\n"
   ]
  },
  {
   "cell_type": "markdown",
   "metadata": {},
   "source": [
    "<details>    \n",
    "<summary>\n",
    "    <font size=\"3\" color=\"darkgreen\"><b>Hints</b></font>\n",
    "</summary>\n",
    "<ul><li>use from bokeh.models import Band</li>\n",
    "    <li>use ColumnDataSource to parse data arrays</li>\n",
    "    <li>look for xaxis tick formatters</li>\n",
    "</ul>\n",
    "</details>"
   ]
  },
  {
   "cell_type": "markdown",
   "metadata": {},
   "source": [
    "---"
   ]
  },
  {
   "cell_type": "code",
   "execution_count": 11,
   "metadata": {},
   "outputs": [
    {
     "data": {
      "text/html": [
       "<div class=\"bk-root\">\n",
       "        <a href=\"https://bokeh.org\" target=\"_blank\" class=\"bk-logo bk-logo-small bk-logo-notebook\"></a>\n",
       "        <span id=\"1279\">Loading BokehJS ...</span>\n",
       "    </div>\n"
      ]
     },
     "metadata": {},
     "output_type": "display_data"
    },
    {
     "data": {
      "application/javascript": "(function(root) {\n  function now() {\n    return new Date();\n  }\n\n  const force = true;\n\n  if (typeof root._bokeh_onload_callbacks === \"undefined\" || force === true) {\n    root._bokeh_onload_callbacks = [];\n    root._bokeh_is_loading = undefined;\n  }\n\nconst JS_MIME_TYPE = 'application/javascript';\n  const HTML_MIME_TYPE = 'text/html';\n  const EXEC_MIME_TYPE = 'application/vnd.bokehjs_exec.v0+json';\n  const CLASS_NAME = 'output_bokeh rendered_html';\n\n  /**\n   * Render data to the DOM node\n   */\n  function render(props, node) {\n    const script = document.createElement(\"script\");\n    node.appendChild(script);\n  }\n\n  /**\n   * Handle when an output is cleared or removed\n   */\n  function handleClearOutput(event, handle) {\n    const cell = handle.cell;\n\n    const id = cell.output_area._bokeh_element_id;\n    const server_id = cell.output_area._bokeh_server_id;\n    // Clean up Bokeh references\n    if (id != null && id in Bokeh.index) {\n      Bokeh.index[id].model.document.clear();\n      delete Bokeh.index[id];\n    }\n\n    if (server_id !== undefined) {\n      // Clean up Bokeh references\n      const cmd_clean = \"from bokeh.io.state import curstate; print(curstate().uuid_to_server['\" + server_id + \"'].get_sessions()[0].document.roots[0]._id)\";\n      cell.notebook.kernel.execute(cmd_clean, {\n        iopub: {\n          output: function(msg) {\n            const id = msg.content.text.trim();\n            if (id in Bokeh.index) {\n              Bokeh.index[id].model.document.clear();\n              delete Bokeh.index[id];\n            }\n          }\n        }\n      });\n      // Destroy server and session\n      const cmd_destroy = \"import bokeh.io.notebook as ion; ion.destroy_server('\" + server_id + \"')\";\n      cell.notebook.kernel.execute(cmd_destroy);\n    }\n  }\n\n  /**\n   * Handle when a new output is added\n   */\n  function handleAddOutput(event, handle) {\n    const output_area = handle.output_area;\n    const output = handle.output;\n\n    // limit handleAddOutput to display_data with EXEC_MIME_TYPE content only\n    if ((output.output_type != \"display_data\") || (!Object.prototype.hasOwnProperty.call(output.data, EXEC_MIME_TYPE))) {\n      return\n    }\n\n    const toinsert = output_area.element.find(\".\" + CLASS_NAME.split(' ')[0]);\n\n    if (output.metadata[EXEC_MIME_TYPE][\"id\"] !== undefined) {\n      toinsert[toinsert.length - 1].firstChild.textContent = output.data[JS_MIME_TYPE];\n      // store reference to embed id on output_area\n      output_area._bokeh_element_id = output.metadata[EXEC_MIME_TYPE][\"id\"];\n    }\n    if (output.metadata[EXEC_MIME_TYPE][\"server_id\"] !== undefined) {\n      const bk_div = document.createElement(\"div\");\n      bk_div.innerHTML = output.data[HTML_MIME_TYPE];\n      const script_attrs = bk_div.children[0].attributes;\n      for (let i = 0; i < script_attrs.length; i++) {\n        toinsert[toinsert.length - 1].firstChild.setAttribute(script_attrs[i].name, script_attrs[i].value);\n        toinsert[toinsert.length - 1].firstChild.textContent = bk_div.children[0].textContent\n      }\n      // store reference to server id on output_area\n      output_area._bokeh_server_id = output.metadata[EXEC_MIME_TYPE][\"server_id\"];\n    }\n  }\n\n  function register_renderer(events, OutputArea) {\n\n    function append_mime(data, metadata, element) {\n      // create a DOM node to render to\n      const toinsert = this.create_output_subarea(\n        metadata,\n        CLASS_NAME,\n        EXEC_MIME_TYPE\n      );\n      this.keyboard_manager.register_events(toinsert);\n      // Render to node\n      const props = {data: data, metadata: metadata[EXEC_MIME_TYPE]};\n      render(props, toinsert[toinsert.length - 1]);\n      element.append(toinsert);\n      return toinsert\n    }\n\n    /* Handle when an output is cleared or removed */\n    events.on('clear_output.CodeCell', handleClearOutput);\n    events.on('delete.Cell', handleClearOutput);\n\n    /* Handle when a new output is added */\n    events.on('output_added.OutputArea', handleAddOutput);\n\n    /**\n     * Register the mime type and append_mime function with output_area\n     */\n    OutputArea.prototype.register_mime_type(EXEC_MIME_TYPE, append_mime, {\n      /* Is output safe? */\n      safe: true,\n      /* Index of renderer in `output_area.display_order` */\n      index: 0\n    });\n  }\n\n  // register the mime type if in Jupyter Notebook environment and previously unregistered\n  if (root.Jupyter !== undefined) {\n    const events = require('base/js/events');\n    const OutputArea = require('notebook/js/outputarea').OutputArea;\n\n    if (OutputArea.prototype.mime_types().indexOf(EXEC_MIME_TYPE) == -1) {\n      register_renderer(events, OutputArea);\n    }\n  }\n  if (typeof (root._bokeh_timeout) === \"undefined\" || force === true) {\n    root._bokeh_timeout = Date.now() + 5000;\n    root._bokeh_failed_load = false;\n  }\n\n  const NB_LOAD_WARNING = {'data': {'text/html':\n     \"<div style='background-color: #fdd'>\\n\"+\n     \"<p>\\n\"+\n     \"BokehJS does not appear to have successfully loaded. If loading BokehJS from CDN, this \\n\"+\n     \"may be due to a slow or bad network connection. Possible fixes:\\n\"+\n     \"</p>\\n\"+\n     \"<ul>\\n\"+\n     \"<li>re-rerun `output_notebook()` to attempt to load from CDN again, or</li>\\n\"+\n     \"<li>use INLINE resources instead, as so:</li>\\n\"+\n     \"</ul>\\n\"+\n     \"<code>\\n\"+\n     \"from bokeh.resources import INLINE\\n\"+\n     \"output_notebook(resources=INLINE)\\n\"+\n     \"</code>\\n\"+\n     \"</div>\"}};\n\n  function display_loaded() {\n    const el = document.getElementById(\"1279\");\n    if (el != null) {\n      el.textContent = \"BokehJS is loading...\";\n    }\n    if (root.Bokeh !== undefined) {\n      if (el != null) {\n        el.textContent = \"BokehJS \" + root.Bokeh.version + \" successfully loaded.\";\n      }\n    } else if (Date.now() < root._bokeh_timeout) {\n      setTimeout(display_loaded, 100)\n    }\n  }\n\n  function run_callbacks() {\n    try {\n      root._bokeh_onload_callbacks.forEach(function(callback) {\n        if (callback != null)\n          callback();\n      });\n    } finally {\n      delete root._bokeh_onload_callbacks\n    }\n    console.debug(\"Bokeh: all callbacks have finished\");\n  }\n\n  function load_libs(css_urls, js_urls, callback) {\n    if (css_urls == null) css_urls = [];\n    if (js_urls == null) js_urls = [];\n\n    root._bokeh_onload_callbacks.push(callback);\n    if (root._bokeh_is_loading > 0) {\n      console.debug(\"Bokeh: BokehJS is being loaded, scheduling callback at\", now());\n      return null;\n    }\n    if (js_urls == null || js_urls.length === 0) {\n      run_callbacks();\n      return null;\n    }\n    console.debug(\"Bokeh: BokehJS not loaded, scheduling load and callback at\", now());\n    root._bokeh_is_loading = css_urls.length + js_urls.length;\n\n    function on_load() {\n      root._bokeh_is_loading--;\n      if (root._bokeh_is_loading === 0) {\n        console.debug(\"Bokeh: all BokehJS libraries/stylesheets loaded\");\n        run_callbacks()\n      }\n    }\n\n    function on_error(url) {\n      console.error(\"failed to load \" + url);\n    }\n\n    for (let i = 0; i < css_urls.length; i++) {\n      const url = css_urls[i];\n      const element = document.createElement(\"link\");\n      element.onload = on_load;\n      element.onerror = on_error.bind(null, url);\n      element.rel = \"stylesheet\";\n      element.type = \"text/css\";\n      element.href = url;\n      console.debug(\"Bokeh: injecting link tag for BokehJS stylesheet: \", url);\n      document.body.appendChild(element);\n    }\n\n    for (let i = 0; i < js_urls.length; i++) {\n      const url = js_urls[i];\n      const element = document.createElement('script');\n      element.onload = on_load;\n      element.onerror = on_error.bind(null, url);\n      element.async = false;\n      element.src = url;\n      console.debug(\"Bokeh: injecting script tag for BokehJS library: \", url);\n      document.head.appendChild(element);\n    }\n  };\n\n  function inject_raw_css(css) {\n    const element = document.createElement(\"style\");\n    element.appendChild(document.createTextNode(css));\n    document.body.appendChild(element);\n  }\n\n  const js_urls = [\"https://cdn.bokeh.org/bokeh/release/bokeh-2.4.3.min.js\", \"https://cdn.bokeh.org/bokeh/release/bokeh-gl-2.4.3.min.js\", \"https://cdn.bokeh.org/bokeh/release/bokeh-widgets-2.4.3.min.js\", \"https://cdn.bokeh.org/bokeh/release/bokeh-tables-2.4.3.min.js\", \"https://cdn.bokeh.org/bokeh/release/bokeh-mathjax-2.4.3.min.js\", \"https://unpkg.com/@holoviz/panel@0.13.1/dist/panel.min.js\"];\n  const css_urls = [];\n\n  const inline_js = [    function(Bokeh) {\n      Bokeh.set_log_level(\"info\");\n    },\nfunction(Bokeh) {\n    }\n  ];\n\n  function run_inline_js() {\n    if (root.Bokeh !== undefined || force === true) {\n          for (let i = 0; i < inline_js.length; i++) {\n      inline_js[i].call(root, root.Bokeh);\n    }\nif (force === true) {\n        display_loaded();\n      }} else if (Date.now() < root._bokeh_timeout) {\n      setTimeout(run_inline_js, 100);\n    } else if (!root._bokeh_failed_load) {\n      console.log(\"Bokeh: BokehJS failed to load within specified timeout.\");\n      root._bokeh_failed_load = true;\n    } else if (force !== true) {\n      const cell = $(document.getElementById(\"1279\")).parents('.cell').data().cell;\n      cell.output_area.append_execute_result(NB_LOAD_WARNING)\n    }\n  }\n\n  if (root._bokeh_is_loading === 0) {\n    console.debug(\"Bokeh: BokehJS loaded, going straight to plotting\");\n    run_inline_js();\n  } else {\n    load_libs(css_urls, js_urls, function() {\n      console.debug(\"Bokeh: BokehJS plotting callback run at\", now());\n      run_inline_js();\n    });\n  }\n}(window));",
      "application/vnd.bokehjs_load.v0+json": ""
     },
     "metadata": {},
     "output_type": "display_data"
    },
    {
     "data": {
      "text/html": [
       "\n",
       "  <div class=\"bk-root\" id=\"ae74058c-a63a-4b6a-82b8-d3b5e2b6bed5\" data-root-id=\"1214\"></div>\n"
      ]
     },
     "metadata": {},
     "output_type": "display_data"
    },
    {
     "data": {
      "application/javascript": "(function(root) {\n  function embed_document(root) {\n  const docs_json = {\"dce9e0f6-e444-4531-8b44-48f79f655d39\":{\"defs\":[{\"extends\":null,\"module\":null,\"name\":\"ReactiveHTML1\",\"overrides\":[],\"properties\":[]},{\"extends\":null,\"module\":null,\"name\":\"FlexBox1\",\"overrides\":[],\"properties\":[{\"default\":\"flex-start\",\"kind\":null,\"name\":\"align_content\"},{\"default\":\"flex-start\",\"kind\":null,\"name\":\"align_items\"},{\"default\":\"row\",\"kind\":null,\"name\":\"flex_direction\"},{\"default\":\"wrap\",\"kind\":null,\"name\":\"flex_wrap\"},{\"default\":\"flex-start\",\"kind\":null,\"name\":\"justify_content\"}]},{\"extends\":null,\"module\":null,\"name\":\"GridStack1\",\"overrides\":[],\"properties\":[{\"default\":\"warn\",\"kind\":null,\"name\":\"mode\"},{\"default\":null,\"kind\":null,\"name\":\"ncols\"},{\"default\":null,\"kind\":null,\"name\":\"nrows\"},{\"default\":true,\"kind\":null,\"name\":\"allow_resize\"},{\"default\":true,\"kind\":null,\"name\":\"allow_drag\"},{\"default\":[],\"kind\":null,\"name\":\"state\"}]},{\"extends\":null,\"module\":null,\"name\":\"click1\",\"overrides\":[],\"properties\":[{\"default\":\"\",\"kind\":null,\"name\":\"terminal_output\"},{\"default\":\"\",\"kind\":null,\"name\":\"debug_name\"},{\"default\":0,\"kind\":null,\"name\":\"clears\"}]},{\"extends\":null,\"module\":null,\"name\":\"NotificationAreaBase1\",\"overrides\":[],\"properties\":[{\"default\":\"bottom-right\",\"kind\":null,\"name\":\"position\"},{\"default\":0,\"kind\":null,\"name\":\"_clear\"}]},{\"extends\":null,\"module\":null,\"name\":\"NotificationArea1\",\"overrides\":[],\"properties\":[{\"default\":[],\"kind\":null,\"name\":\"notifications\"},{\"default\":\"bottom-right\",\"kind\":null,\"name\":\"position\"},{\"default\":0,\"kind\":null,\"name\":\"_clear\"},{\"default\":[{\"background\":\"#ffc107\",\"icon\":{\"className\":\"fas fa-exclamation-triangle\",\"color\":\"white\",\"tagName\":\"i\"},\"type\":\"warning\"},{\"background\":\"#007bff\",\"icon\":{\"className\":\"fas fa-info-circle\",\"color\":\"white\",\"tagName\":\"i\"},\"type\":\"info\"}],\"kind\":null,\"name\":\"types\"}]},{\"extends\":null,\"module\":null,\"name\":\"Notification\",\"overrides\":[],\"properties\":[{\"default\":null,\"kind\":null,\"name\":\"background\"},{\"default\":3000,\"kind\":null,\"name\":\"duration\"},{\"default\":null,\"kind\":null,\"name\":\"icon\"},{\"default\":\"\",\"kind\":null,\"name\":\"message\"},{\"default\":null,\"kind\":null,\"name\":\"notification_type\"},{\"default\":false,\"kind\":null,\"name\":\"_destroyed\"}]},{\"extends\":null,\"module\":null,\"name\":\"TemplateActions1\",\"overrides\":[],\"properties\":[{\"default\":0,\"kind\":null,\"name\":\"open_modal\"},{\"default\":0,\"kind\":null,\"name\":\"close_modal\"}]},{\"extends\":null,\"module\":null,\"name\":\"MaterialTemplateActions1\",\"overrides\":[],\"properties\":[{\"default\":0,\"kind\":null,\"name\":\"open_modal\"},{\"default\":0,\"kind\":null,\"name\":\"close_modal\"}]}],\"roots\":{\"references\":[{\"attributes\":{\"below\":[{\"id\":\"1225\"}],\"center\":[{\"id\":\"1228\"},{\"id\":\"1232\"},{\"id\":\"1275\"},{\"id\":\"1277\"}],\"left\":[{\"id\":\"1229\"}],\"renderers\":[{\"id\":\"1251\"}],\"title\":{\"id\":\"1215\"},\"toolbar\":{\"id\":\"1240\"},\"width\":1000,\"x_range\":{\"id\":\"1217\"},\"x_scale\":{\"id\":\"1221\"},\"y_range\":{\"id\":\"1219\"},\"y_scale\":{\"id\":\"1223\"}},\"id\":\"1214\",\"subtype\":\"Figure\",\"type\":\"Plot\"},{\"attributes\":{\"source\":{\"id\":\"1213\"}},\"id\":\"1252\",\"type\":\"CDSView\"},{\"attributes\":{},\"id\":\"1237\",\"type\":\"ResetTool\"},{\"attributes\":{\"bottom_units\":\"screen\",\"coordinates\":null,\"fill_alpha\":0.5,\"fill_color\":\"lightgrey\",\"group\":null,\"left_units\":\"screen\",\"level\":\"overlay\",\"line_alpha\":1.0,\"line_color\":\"black\",\"line_dash\":[4,4],\"line_width\":2,\"right_units\":\"screen\",\"syncable\":false,\"top_units\":\"screen\"},\"id\":\"1239\",\"type\":\"BoxAnnotation\"},{\"attributes\":{\"axis_label\":\"temprature\",\"coordinates\":null,\"formatter\":{\"id\":\"1255\"},\"group\":null,\"major_label_policy\":{\"id\":\"1256\"},\"ticker\":{\"id\":\"1230\"}},\"id\":\"1229\",\"type\":\"LinearAxis\"},{\"attributes\":{\"data\":{\"Date\":{\"__ndarray__\":\"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\",\"dtype\":\"float64\",\"order\":\"little\",\"shape\":[365]},\"Tmax\":{\"__ndarray__\":\"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\",\"dtype\":\"float64\",\"order\":\"little\",\"shape\":[365]},\"Tmean\":{\"__ndarray__\":\"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\",\"dtype\":\"float64\",\"order\":\"little\",\"shape\":[365]},\"Tmin\":{\"__ndarray__\":\"AAAAAAAAEEDNzMzMzMwIQDMzMzMzMxVAMzMzMzMzF0AAAAAAAAAQQM3MzMzMzPw/mpmZmZmZ+b8zMzMzMzMDwJqZmZmZmfG/ZmZmZmZmDkAAAAAAAAAQQM3MzMzMzAhAZmZmZmZmAkCamZmZmZnJPwAAAAAAAAAAAAAAAAAABEAAAAAAAAD4PwAAAAAAAAAAmpmZmZmZuT8AAAAAAADgvwAAAAAAAAAAmpmZmZmZ+T9mZmZmZmYUQM3MzMzMzBpAmpmZmZmZEUAAAAAAAAAAQDMzMzMzM9M/zczMzMzMGECamZmZmZkTQDMzMzMzM/s/mpmZmZmZAUCamZmZmZn5P83MzMzMzPQ/mpmZmZmZub+amZmZmZnpPwAAAAAAAADAmpmZmZmZFcDNzMzMzMwYwAAAAAAAAADAZmZmZmZm9r8zMzMzMzPzvzMzMzMzM/s/mpmZmZmZyb8AAAAAAADwvwAAAAAAAADAAAAAAAAAAACamZmZmZnxvwAAAAAAABDAAAAAAAAAAMAzMzMzMzMPwGZmZmZmZhLAzczMzMzMFMBmZmZmZmYYwM3MzMzMzBLAAAAAAAAAEMAAAAAAAAAWwGZmZmZmZhbAAAAAAAAAI8AAAAAAAAAiwDMzMzMzMyLAmpmZmZmZIMDNzMzMzMwhwM3MzMzMzBDAMzMzMzMz4z8AAAAAAAAAwGZmZmZmZhDAmpmZmZmZ2T8zMzMzMzPzP5qZmZmZmRNAzczMzMzMBEBmZmZmZmYOQM3MzMzMzAxAmpmZmZmZ2b8zMzMzMzPzPzMzMzMzM/O/MzMzMzMzC8CamZmZmZkRwAAAAAAAABLAzczMzMzMAMAAAAAAAAAIwM3MzMzMzAxAmpmZmZmZEUAzMzMzMzMHQDMzMzMzM9M/mpmZmZmZub8zMzMzMzMHQAAAAAAAAAhAZmZmZmZmBkDNzMzMzMwMQM3MzMzMzBRAZmZmZmZmBkAzMzMzMzPjP2ZmZmZmZiBAAAAAAAAAGkBmZmZmZmbmP5qZmZmZmck/MzMzMzMzG0CamZmZmZkZQGZmZmZmZhhAZmZmZmZmHkCamZmZmZkZQJqZmZmZmRdAAAAAAAAAHkAzMzMzMzMHQAAAAAAAABJAZmZmZmZmGkAAAAAAAAAYQDMzMzMzMyFAzczMzMzMK0AAAAAAAAAgQJqZmZmZmRFAZmZmZmZmI0DNzMzMzMwgQJqZmZmZmSNAzczMzMzMIEDNzMzMzMwcQM3MzMzMzBhAMzMzMzMzH0AzMzMzMzMdQGZmZmZmZhZAmpmZmZmZFUAzMzMzMzMPQGZmZmZmZhBAMzMzMzMz8z8zMzMzMzMLQM3MzMzMzBZAMzMzMzMzK0DNzMzMzMwqQGZmZmZmZiZAMzMzMzMzG0CamZmZmZkRQJqZmZmZmSdAZmZmZmZmKEBmZmZmZmYmQJqZmZmZmSZAAAAAAAAAIkAzMzMzMzMgQDMzMzMzMyBAmpmZmZmZFUAAAAAAAAAYQDMzMzMzMyRAmpmZmZmZJkBmZmZmZmYmQJqZmZmZmSZAmpmZmZmZLkCamZmZmZkpQDMzMzMzMy1AZmZmZmZmKECamZmZmRkwQJqZmZmZmS9AAAAAAAAALEAAAAAAAAAqQGZmZmZmZixAAAAAAAAAL0DNzMzMzMwrQJqZmZmZmSBAMzMzMzMzG0BmZmZmZmYqQJqZmZmZmS1AMzMzMzMzLEDNzMzMzMwoQAAAAAAAACBAAAAAAAAAKUBmZmZmZmYoQJqZmZmZmSdAmpmZmZmZJkBmZmZmZmYnQAAAAAAAAClAZmZmZmZmK0AzMzMzMzMwQDMzMzMzMy5AzczMzMzMJEAzMzMzMzMlQM3MzMzMzCZAMzMzMzMzJkAzMzMzMzMlQDMzMzMzMyZAZmZmZmZmKEBmZmZmZmYmQGZmZmZmZiFAmpmZmZmZJ0AzMzMzMzMrQJqZmZmZmShAmpmZmZmZH0CamZmZmZkbQAAAAAAAACZAMzMzMzMzJUDNzMzMzMwhQJqZmZmZmSRAZmZmZmZmJkBmZmZmZmYlQAAAAAAAACZAZmZmZmZmJkCamZmZmZkkQJqZmZmZmSdAmpmZmZmZKEBmZmZmZmYvQGZmZmZmZi1AZmZmZmZmJ0AAAAAAAAAoQDMzMzMzMydAmpmZmZmZL0AzMzMzMzMsQGZmZmZmZipAMzMzMzOzMECamZmZmZkxQM3MzMzMTDFAAAAAAACAN0CamZmZmZkuQM3MzMzMzCxAAAAAAAAAMkCamZmZmZksQJqZmZmZmSpAmpmZmZmZLUBmZmZmZmYpQGZmZmZmZi1AAAAAAAAAKUCamZmZmZkpQGZmZmZmZilAzczMzMzMLUDNzMzMzMwsQGZmZmZmZihAZmZmZmZmJkDNzMzMzMwoQM3MzMzMzDBAzczMzMzML0CamZmZmZkwQJqZmZmZmS5AAAAAAAAAK0AzMzMzMzMrQJqZmZmZmTBAAAAAAAAAL0CamZmZmRkwQM3MzMzMzDBAmpmZmZmZKkCamZmZmZkkQGZmZmZmZiVAZmZmZmZmIkCamZmZmZkoQJqZmZmZmSxAAAAAAAAAKEAAAAAAAAAjQAAAAAAAACBAMzMzMzMzH0BmZmZmZmYYQDMzMzMzMyZAAAAAAAAALkCamZmZmZknQAAAAAAAACtAmpmZmZmZJUAzMzMzMzMpQJqZmZmZmSxAAAAAAAAALEBmZmZmZmYrQDMzMzMzMyNAMzMzMzMzGUAAAAAAAAAjQM3MzMzMzCdAZmZmZmZmJ0DNzMzMzMwoQJqZmZmZmSxAAAAAAAAALkBmZmZmZmYwQAAAAAAAACRAmpmZmZmZI0BmZmZmZmYiQM3MzMzMzBZAMzMzMzMzF0AzMzMzMzMhQJqZmZmZmSdAMzMzMzMzE0CamZmZmZkTQM3MzMzMzBpAMzMzMzMzF0BmZmZmZmYeQDMzMzMzMyNAAAAAAAAAKEDNzMzMzMwaQJqZmZmZmRFAMzMzMzMzFUCamZmZmZkZQM3MzMzMzCNAmpmZmZmZFUAAAAAAAAApQGZmZmZmZixAZmZmZmZmL0CamZmZmZksQJqZmZmZmSVAAAAAAAAAKkDNzMzMzMwkQM3MzMzMzBxAmpmZmZmZBUAAAAAAAAAWQGZmZmZmZiNAmpmZmZmZG0CamZmZmZkmQGZmZmZmZidAzczMzMzMIEBmZmZmZmYWQJqZmZmZmQ1AzczMzMzM9L/NzMzMzMwAQGZmZmZmZhJAmpmZmZmZFUAAAAAAAAAhQDMzMzMzMwdAmpmZmZmZAUAAAAAAAAAEQAAAAAAAAABAAAAAAAAAHECamZmZmZkiQGZmZmZmZhhAzczMzMzMGECamZmZmZkjQJqZmZmZmR1AmpmZmZmZIECamZmZmZkXQGZmZmZmZhxAzczMzMzMCEBmZmZmZmb2P5qZmZmZmek/ZmZmZmZmAsAAAAAAAAAIQAAAAAAAAPg/mpmZmZmZ6T8AAAAAAAD4P2ZmZmZmZuY/ZmZmZmZmFsDNzMzMzMwAwDMzMzMzM/M/AAAAAAAA4D8zMzMzMzPTPwAAAAAAAB5AzczMzMzMFkAAAAAAAAAWQDMzMzMzMyJAZmZmZmZmGkDNzMzMzMzsPzMzMzMzM/s/AAAAAAAAHEDNzMzMzMwaQJqZmZmZmRlAMzMzMzMzE0AzMzMzMzMPQGZmZmZmZgLAzczMzMzMAMAzMzMzMzPzvwAAAAAAAOA/ZmZmZmZm9r9mZmZmZmYCwGZmZmZmZv4/AAAAAAAABEAAAAAAAAAUQJqZmZmZmRVAmpmZmZmZF0DNzMzMzMwYQGZmZmZmZhJAmpmZmZmZub/NzMzMzMwSQDMzMzMzMxVAMzMzMzMzFUAzMzMzMzMXQJqZmZmZmRtAMzMzMzMzG0BmZmZmZmYgQA==\",\"dtype\":\"float64\",\"order\":\"little\",\"shape\":[365]},\"index\":[0,1,2,3,4,5,6,7,8,9,10,11,12,13,14,15,16,17,18,19,20,21,22,23,24,25,26,27,28,29,30,31,32,33,34,35,36,37,38,39,40,41,42,43,44,45,46,47,48,49,50,51,52,53,54,55,56,57,58,59,60,61,62,63,64,65,66,67,68,69,70,71,72,73,74,75,76,77,78,79,80,81,82,83,84,85,86,87,88,89,90,91,92,93,94,95,96,97,98,99,100,101,102,103,104,105,106,107,108,109,110,111,112,113,114,115,116,117,118,119,120,121,122,123,124,125,126,127,128,129,130,131,132,133,134,135,136,137,138,139,140,141,142,143,144,145,146,147,148,149,150,151,152,153,154,155,156,157,158,159,160,161,162,163,164,165,166,167,168,169,170,171,172,173,174,175,176,177,178,179,180,181,182,183,184,185,186,187,188,189,190,191,192,193,194,195,196,197,198,199,200,201,202,203,204,205,206,207,208,209,210,211,212,213,214,215,216,217,218,219,220,221,222,223,224,225,226,227,228,229,230,231,232,233,234,235,236,237,238,239,240,241,242,243,244,245,246,247,248,249,250,251,252,253,254,255,256,257,258,259,260,261,262,263,264,265,266,267,268,269,270,271,272,273,274,275,276,277,278,279,280,281,282,283,284,285,286,287,288,289,290,291,292,293,294,295,296,297,298,299,300,301,302,303,304,305,306,307,308,309,310,311,312,313,314,315,316,317,318,319,320,321,322,323,324,325,326,327,328,329,330,331,332,333,334,335,336,337,338,339,340,341,342,343,344,345,346,347,348,349,350,351,352,353,354,355,356,357,358,359,360,361,362,363,364],\"station\":[270,270,270,270,270,270,270,270,270,270,270,270,270,270,270,270,270,270,270,270,270,270,270,270,270,270,270,270,270,270,270,270,270,270,270,270,270,270,270,270,270,270,270,270,270,270,270,270,270,270,270,270,270,270,270,270,270,270,270,270,270,270,270,270,270,270,270,270,270,270,270,270,270,270,270,270,270,270,270,270,270,270,270,270,270,270,270,270,270,270,270,270,270,270,270,270,270,270,270,270,270,270,270,270,270,270,270,270,270,270,270,270,270,270,270,270,270,270,270,270,270,270,270,270,270,270,270,270,270,270,270,270,270,270,270,270,270,270,270,270,270,270,270,270,270,270,270,270,270,270,270,270,270,270,270,270,270,270,270,270,270,270,270,270,270,270,270,270,270,270,270,270,270,270,270,270,270,270,270,270,270,270,270,270,270,270,270,270,270,270,270,270,270,270,270,270,270,270,270,270,270,270,270,270,270,270,270,270,270,270,270,270,270,270,270,270,270,270,270,270,270,270,270,270,270,270,270,270,270,270,270,270,270,270,270,270,270,270,270,270,270,270,270,270,270,270,270,270,270,270,270,270,270,270,270,270,270,270,270,270,270,270,270,270,270,270,270,270,270,270,270,270,270,270,270,270,270,270,270,270,270,270,270,270,270,270,270,270,270,270,270,270,270,270,270,270,270,270,270,270,270,270,270,270,270,270,270,270,270,270,270,270,270,270,270,270,270,270,270,270,270,270,270,270,270,270,270,270,270,270,270,270,270,270,270,270,270,270,270,270,270,270,270,270,270,270,270,270,270,270,270,270,270,270,270,270,270,270,270,270,270,270,270,270,270]},\"selected\":{\"id\":\"1261\"},\"selection_policy\":{\"id\":\"1260\"}},\"id\":\"1213\",\"type\":\"ColumnDataSource\"},{\"attributes\":{},\"id\":\"1259\",\"type\":\"AllLabels\"},{\"attributes\":{\"line_alpha\":0.2,\"line_color\":\"blue\",\"x\":{\"field\":\"Date\"},\"y\":{\"field\":\"Tmean\"}},\"id\":\"1250\",\"type\":\"Line\"},{\"attributes\":{\"overlay\":{\"id\":\"1239\"}},\"id\":\"1235\",\"type\":\"BoxZoomTool\"},{\"attributes\":{},\"id\":\"1258\",\"type\":\"DatetimeTickFormatter\"},{\"attributes\":{\"months\":[0,4,8]},\"id\":\"1272\",\"type\":\"MonthsTicker\"},{\"attributes\":{},\"id\":\"1256\",\"type\":\"AllLabels\"},{\"attributes\":{\"months\":[0,2,4,6,8,10]},\"id\":\"1271\",\"type\":\"MonthsTicker\"},{\"attributes\":{\"num_minor_ticks\":5,\"tickers\":[{\"id\":\"1263\"},{\"id\":\"1264\"},{\"id\":\"1265\"},{\"id\":\"1266\"},{\"id\":\"1267\"},{\"id\":\"1268\"},{\"id\":\"1269\"},{\"id\":\"1270\"},{\"id\":\"1271\"},{\"id\":\"1272\"},{\"id\":\"1273\"},{\"id\":\"1274\"}]},\"id\":\"1226\",\"type\":\"DatetimeTicker\"},{\"attributes\":{},\"id\":\"1261\",\"type\":\"Selection\"},{\"attributes\":{},\"id\":\"1223\",\"type\":\"LinearScale\"},{\"attributes\":{\"days\":[1,8,15,22]},\"id\":\"1268\",\"type\":\"DaysTicker\"},{\"attributes\":{\"months\":[0,6]},\"id\":\"1273\",\"type\":\"MonthsTicker\"},{\"attributes\":{},\"id\":\"1217\",\"type\":\"DataRange1d\"},{\"attributes\":{\"days\":[1,4,7,10,13,16,19,22,25,28]},\"id\":\"1267\",\"type\":\"DaysTicker\"},{\"attributes\":{\"coordinates\":null,\"data_source\":{\"id\":\"1213\"},\"glyph\":{\"id\":\"1248\"},\"group\":null,\"hover_glyph\":null,\"muted_glyph\":{\"id\":\"1250\"},\"nonselection_glyph\":{\"id\":\"1249\"},\"view\":{\"id\":\"1252\"}},\"id\":\"1251\",\"type\":\"GlyphRenderer\"},{\"attributes\":{\"tools\":[{\"id\":\"1233\"},{\"id\":\"1234\"},{\"id\":\"1235\"},{\"id\":\"1236\"},{\"id\":\"1237\"},{\"id\":\"1238\"}]},\"id\":\"1240\",\"type\":\"Toolbar\"},{\"attributes\":{},\"id\":\"1260\",\"type\":\"UnionRenderers\"},{\"attributes\":{\"days\":[1,2,3,4,5,6,7,8,9,10,11,12,13,14,15,16,17,18,19,20,21,22,23,24,25,26,27,28,29,30,31]},\"id\":\"1266\",\"type\":\"DaysTicker\"},{\"attributes\":{\"axis\":{\"id\":\"1225\"},\"coordinates\":null,\"group\":null,\"ticker\":null},\"id\":\"1228\",\"type\":\"Grid\"},{\"attributes\":{\"line_color\":\"blue\",\"x\":{\"field\":\"Date\"},\"y\":{\"field\":\"Tmean\"}},\"id\":\"1248\",\"type\":\"Line\"},{\"attributes\":{\"days\":[1,15]},\"id\":\"1269\",\"type\":\"DaysTicker\"},{\"attributes\":{},\"id\":\"1219\",\"type\":\"DataRange1d\"},{\"attributes\":{\"coordinates\":null,\"group\":null,\"items\":[{\"id\":\"1276\"}]},\"id\":\"1275\",\"type\":\"Legend\"},{\"attributes\":{},\"id\":\"1236\",\"type\":\"SaveTool\"},{\"attributes\":{},\"id\":\"1238\",\"type\":\"HelpTool\"},{\"attributes\":{},\"id\":\"1230\",\"type\":\"BasicTicker\"},{\"attributes\":{\"mantissas\":[1,2,5],\"max_interval\":500.0,\"num_minor_ticks\":0},\"id\":\"1263\",\"type\":\"AdaptiveTicker\"},{\"attributes\":{},\"id\":\"1221\",\"type\":\"LinearScale\"},{\"attributes\":{\"axis\":{\"id\":\"1229\"},\"coordinates\":null,\"dimension\":1,\"group\":null,\"ticker\":null},\"id\":\"1232\",\"type\":\"Grid\"},{\"attributes\":{\"label\":{\"value\":\"Tmean\"},\"renderers\":[{\"id\":\"1251\"}]},\"id\":\"1276\",\"type\":\"LegendItem\"},{\"attributes\":{\"base\":60,\"mantissas\":[1,2,5,10,15,20,30],\"max_interval\":1800000.0,\"min_interval\":1000.0,\"num_minor_ticks\":0},\"id\":\"1264\",\"type\":\"AdaptiveTicker\"},{\"attributes\":{},\"id\":\"1233\",\"type\":\"PanTool\"},{\"attributes\":{},\"id\":\"1274\",\"type\":\"YearsTicker\"},{\"attributes\":{},\"id\":\"1255\",\"type\":\"BasicTickFormatter\"},{\"attributes\":{\"base\":24,\"mantissas\":[1,2,4,6,8,12],\"max_interval\":43200000.0,\"min_interval\":3600000.0,\"num_minor_ticks\":0},\"id\":\"1265\",\"type\":\"AdaptiveTicker\"},{\"attributes\":{\"months\":[0,1,2,3,4,5,6,7,8,9,10,11]},\"id\":\"1270\",\"type\":\"MonthsTicker\"},{\"attributes\":{\"base\":{\"field\":\"Date\"},\"coordinates\":null,\"fill_alpha\":1.0,\"group\":null,\"level\":\"underlay\",\"line_color\":\"black\",\"lower\":{\"field\":\"Tmin\"},\"source\":{\"id\":\"1213\"},\"upper\":{\"field\":\"Tmax\"}},\"id\":\"1277\",\"type\":\"Band\"},{\"attributes\":{\"coordinates\":null,\"group\":null,\"text\":\"temprature (2018)\"},\"id\":\"1215\",\"type\":\"Title\"},{\"attributes\":{\"axis_label\":\"time\",\"coordinates\":null,\"formatter\":{\"id\":\"1258\"},\"group\":null,\"major_label_policy\":{\"id\":\"1259\"},\"ticker\":{\"id\":\"1226\"}},\"id\":\"1225\",\"type\":\"DatetimeAxis\"},{\"attributes\":{\"line_alpha\":0.1,\"line_color\":\"blue\",\"x\":{\"field\":\"Date\"},\"y\":{\"field\":\"Tmean\"}},\"id\":\"1249\",\"type\":\"Line\"},{\"attributes\":{},\"id\":\"1234\",\"type\":\"WheelZoomTool\"}],\"root_ids\":[\"1214\"]},\"title\":\"Bokeh Application\",\"version\":\"2.4.3\"}};\n  const render_items = [{\"docid\":\"dce9e0f6-e444-4531-8b44-48f79f655d39\",\"root_ids\":[\"1214\"],\"roots\":{\"1214\":\"ae74058c-a63a-4b6a-82b8-d3b5e2b6bed5\"}}];\n  root.Bokeh.embed.embed_items_notebook(docs_json, render_items);\n  }\n  if (root.Bokeh !== undefined) {\n    embed_document(root);\n  } else {\n    let attempts = 0;\n    const timer = setInterval(function(root) {\n      if (root.Bokeh !== undefined) {\n        clearInterval(timer);\n        embed_document(root);\n      } else {\n        attempts++;\n        if (attempts > 100) {\n          clearInterval(timer);\n          console.log(\"Bokeh: ERROR: Unable to run BokehJS code because BokehJS library is missing\");\n        }\n      }\n    }, 10, root)\n  }\n})(window);",
      "application/vnd.bokehjs_exec.v0+json": ""
     },
     "metadata": {
      "application/vnd.bokehjs_exec.v0+json": {
       "id": "1214"
      }
     },
     "output_type": "display_data"
    }
   ],
   "source": [
    "\n",
    "source = ColumnDataSource(data=after2018Df.reset_index())\n",
    "p = figure(title='temprature (2018)', x_axis_type='datetime', x_axis_label='time',\n",
    "           y_axis_label='temprature',plot_width=1000, plot_height=600)\n",
    "\n",
    "p.line(x='Date', y='Tmean', legend_label= 'Tmean', line_width=1, color='blue',\n",
    "       source=source)\n",
    "\n",
    "band = Band(base='Date', lower='Tmin', upper='Tmax', source=source, level='underlay',\n",
    "            fill_alpha=1.0, line_width=1, line_color='black')\n",
    "\n",
    "p.add_layout(band)\n",
    "\n",
    "output_notebook()\n",
    "show(p)\n"
   ]
  },
  {
   "cell_type": "markdown",
   "metadata": {},
   "source": [
    "<a name='5'></a>\n",
    "## Part 6: Challenge"
   ]
  },
  {
   "cell_type": "markdown",
   "metadata": {},
   "source": [
    "Make a widget in which you can select the year range for the multiyear set. Or maybe a widget were you choose a different station. Add this to your layout to make the plot interactive. Add another widget to select or deselect the smoother. Inspiration: https://demo.bokeh.org/weather"
   ]
  },
  {
   "cell_type": "code",
   "execution_count": 12,
   "metadata": {},
   "outputs": [
    {
     "data": {
      "application/javascript": "(function(root) {\n  function now() {\n    return new Date();\n  }\n\n  var force = true;\n\n  if (typeof root._bokeh_onload_callbacks === \"undefined\" || force === true) {\n    root._bokeh_onload_callbacks = [];\n    root._bokeh_is_loading = undefined;\n  }\n\n  if (typeof (root._bokeh_timeout) === \"undefined\" || force === true) {\n    root._bokeh_timeout = Date.now() + 5000;\n    root._bokeh_failed_load = false;\n  }\n\n  function run_callbacks() {\n    try {\n      root._bokeh_onload_callbacks.forEach(function(callback) {\n        if (callback != null)\n          callback();\n      });\n    } finally {\n      delete root._bokeh_onload_callbacks\n    }\n    console.debug(\"Bokeh: all callbacks have finished\");\n  }\n\n  function load_libs(css_urls, js_urls, js_modules, callback) {\n    if (css_urls == null) css_urls = [];\n    if (js_urls == null) js_urls = [];\n    if (js_modules == null) js_modules = [];\n\n    root._bokeh_onload_callbacks.push(callback);\n    if (root._bokeh_is_loading > 0) {\n      console.debug(\"Bokeh: BokehJS is being loaded, scheduling callback at\", now());\n      return null;\n    }\n    if (js_urls.length === 0 && js_modules.length === 0) {\n      run_callbacks();\n      return null;\n    }\n    console.debug(\"Bokeh: BokehJS not loaded, scheduling load and callback at\", now());\n\n    function on_load() {\n      root._bokeh_is_loading--;\n      if (root._bokeh_is_loading === 0) {\n        console.debug(\"Bokeh: all BokehJS libraries/stylesheets loaded\");\n        run_callbacks()\n      }\n    }\n\n    function on_error() {\n      console.error(\"failed to load \" + url);\n    }\n\n    for (var i = 0; i < css_urls.length; i++) {\n      var url = css_urls[i];\n      const element = document.createElement(\"link\");\n      element.onload = on_load;\n      element.onerror = on_error;\n      element.rel = \"stylesheet\";\n      element.type = \"text/css\";\n      element.href = url;\n      console.debug(\"Bokeh: injecting link tag for BokehJS stylesheet: \", url);\n      document.body.appendChild(element);\n    }\n\n    var skip = [];\n    if (window.requirejs) {\n      window.requirejs.config({'packages': {}, 'paths': {'gridstack': 'https://cdn.jsdelivr.net/npm/gridstack@4.2.5/dist/gridstack-h5', 'notyf': 'https://cdn.jsdelivr.net/npm/notyf@3/notyf.min'}, 'shim': {'gridstack': {'exports': 'GridStack'}}});\n      require([\"gridstack\"], function(GridStack) {\n\twindow.GridStack = GridStack\n\ton_load()\n      })\n      require([\"notyf\"], function() {\n\ton_load()\n      })\n      root._bokeh_is_loading = css_urls.length + 2;\n    } else {\n      root._bokeh_is_loading = css_urls.length + js_urls.length + js_modules.length;\n    }    if (((window['GridStack'] !== undefined) && (!(window['GridStack'] instanceof HTMLElement))) || window.requirejs) {\n      var urls = ['https://cdn.jsdelivr.net/npm/gridstack@4.2.5/dist/gridstack-h5.js'];\n      for (var i = 0; i < urls.length; i++) {\n        skip.push(urls[i])\n      }\n    }    if (((window['Notyf'] !== undefined) && (!(window['Notyf'] instanceof HTMLElement))) || window.requirejs) {\n      var urls = ['https://cdn.jsdelivr.net/npm/notyf@3/notyf.min.js'];\n      for (var i = 0; i < urls.length; i++) {\n        skip.push(urls[i])\n      }\n    }    for (var i = 0; i < js_urls.length; i++) {\n      var url = js_urls[i];\n      if (skip.indexOf(url) >= 0) {\n\tif (!window.requirejs) {\n\t  on_load();\n\t}\n\tcontinue;\n      }\n      var element = document.createElement('script');\n      element.onload = on_load;\n      element.onerror = on_error;\n      element.async = false;\n      element.src = url;\n      console.debug(\"Bokeh: injecting script tag for BokehJS library: \", url);\n      document.head.appendChild(element);\n    }\n    for (var i = 0; i < js_modules.length; i++) {\n      var url = js_modules[i];\n      if (skip.indexOf(url) >= 0) {\n\tif (!window.requirejs) {\n\t  on_load();\n\t}\n\tcontinue;\n      }\n      var element = document.createElement('script');\n      element.onload = on_load;\n      element.onerror = on_error;\n      element.async = false;\n      element.src = url;\n      element.type = \"module\";\n      console.debug(\"Bokeh: injecting script tag for BokehJS library: \", url);\n      document.head.appendChild(element);\n    }\n    if (!js_urls.length && !js_modules.length) {\n      on_load()\n    }\n  };\n\n  function inject_raw_css(css) {\n    const element = document.createElement(\"style\");\n    element.appendChild(document.createTextNode(css));\n    document.body.appendChild(element);\n  }\n\n  var js_urls = [\"https://cdn.bokeh.org/bokeh/release/bokeh-2.4.3.min.js\", \"https://cdn.bokeh.org/bokeh/release/bokeh-gl-2.4.3.min.js\", \"https://cdn.bokeh.org/bokeh/release/bokeh-widgets-2.4.3.min.js\", \"https://cdn.bokeh.org/bokeh/release/bokeh-tables-2.4.3.min.js\", \"https://cdn.bokeh.org/bokeh/release/bokeh-mathjax-2.4.3.min.js\", \"https://cdn.jsdelivr.net/npm/notyf@3/notyf.min.js\", \"https://unpkg.com/@holoviz/panel@0.13.1/dist/panel.min.js\"];\n  var js_modules = [];\n  var css_urls = [\"https://cdn.jsdelivr.net/npm/notyf@3/notyf.min.css\", \"https://cdnjs.cloudflare.com/ajax/libs/font-awesome/5.15.1/css/all.min.css\", \"https://unpkg.com/@holoviz/panel@0.13.1/dist/css/alerts.css\", \"https://unpkg.com/@holoviz/panel@0.13.1/dist/css/card.css\", \"https://unpkg.com/@holoviz/panel@0.13.1/dist/css/dataframe.css\", \"https://unpkg.com/@holoviz/panel@0.13.1/dist/css/debugger.css\", \"https://unpkg.com/@holoviz/panel@0.13.1/dist/css/json.css\", \"https://unpkg.com/@holoviz/panel@0.13.1/dist/css/loading.css\", \"https://unpkg.com/@holoviz/panel@0.13.1/dist/css/markdown.css\", \"https://unpkg.com/@holoviz/panel@0.13.1/dist/css/widgets.css\"];\n  var inline_js = [    function(Bokeh) {\n      inject_raw_css(\"\\n    .bk.pn-loading.arcs:before {\\n      background-image: url(\\\"data:image/svg+xml;base64,PHN2ZyB4bWxucz0iaHR0cDovL3d3dy53My5vcmcvMjAwMC9zdmciIHhtbG5zOnhsaW5rPSJodHRwOi8vd3d3LnczLm9yZy8xOTk5L3hsaW5rIiBzdHlsZT0ibWFyZ2luOiBhdXRvOyBiYWNrZ3JvdW5kOiBub25lOyBkaXNwbGF5OiBibG9jazsgc2hhcGUtcmVuZGVyaW5nOiBhdXRvOyIgdmlld0JveD0iMCAwIDEwMCAxMDAiIHByZXNlcnZlQXNwZWN0UmF0aW89InhNaWRZTWlkIj4gIDxjaXJjbGUgY3g9IjUwIiBjeT0iNTAiIHI9IjMyIiBzdHJva2Utd2lkdGg9IjgiIHN0cm9rZT0iI2MzYzNjMyIgc3Ryb2tlLWRhc2hhcnJheT0iNTAuMjY1NDgyNDU3NDM2NjkgNTAuMjY1NDgyNDU3NDM2NjkiIGZpbGw9Im5vbmUiIHN0cm9rZS1saW5lY2FwPSJyb3VuZCI+ICAgIDxhbmltYXRlVHJhbnNmb3JtIGF0dHJpYnV0ZU5hbWU9InRyYW5zZm9ybSIgdHlwZT0icm90YXRlIiByZXBlYXRDb3VudD0iaW5kZWZpbml0ZSIgZHVyPSIxcyIga2V5VGltZXM9IjA7MSIgdmFsdWVzPSIwIDUwIDUwOzM2MCA1MCA1MCI+PC9hbmltYXRlVHJhbnNmb3JtPiAgPC9jaXJjbGU+PC9zdmc+\\\");\\n      background-size: auto calc(min(50%, 400px));\\n    }\\n    \");\n    },    function(Bokeh) {\n      Bokeh.set_log_level(\"info\");\n    },\nfunction(Bokeh) {} // ensure no trailing comma for IE\n  ];\n\n  function run_inline_js() {\n    if ((root.Bokeh !== undefined) || (force === true)) {\n      for (var i = 0; i < inline_js.length; i++) {\n        inline_js[i].call(root, root.Bokeh);\n      }} else if (Date.now() < root._bokeh_timeout) {\n      setTimeout(run_inline_js, 100);\n    } else if (!root._bokeh_failed_load) {\n      console.log(\"Bokeh: BokehJS failed to load within specified timeout.\");\n      root._bokeh_failed_load = true;\n    }\n  }\n\n  if (root._bokeh_is_loading === 0) {\n    console.debug(\"Bokeh: BokehJS loaded, going straight to plotting\");\n    run_inline_js();\n  } else {\n    load_libs(css_urls, js_urls, js_modules, function() {\n      console.debug(\"Bokeh: BokehJS plotting callback run at\", now());\n      run_inline_js();\n    });\n  }\n}(window));",
      "application/vnd.holoviews_load.v0+json": ""
     },
     "metadata": {},
     "output_type": "display_data"
    },
    {
     "data": {
      "application/javascript": "\nif ((window.PyViz === undefined) || (window.PyViz instanceof HTMLElement)) {\n  window.PyViz = {comms: {}, comm_status:{}, kernels:{}, receivers: {}, plot_index: []}\n}\n\n\n    function JupyterCommManager() {\n    }\n\n    JupyterCommManager.prototype.register_target = function(plot_id, comm_id, msg_handler) {\n      if (window.comm_manager || ((window.Jupyter !== undefined) && (Jupyter.notebook.kernel != null))) {\n        var comm_manager = window.comm_manager || Jupyter.notebook.kernel.comm_manager;\n        comm_manager.register_target(comm_id, function(comm) {\n          comm.on_msg(msg_handler);\n        });\n      } else if ((plot_id in window.PyViz.kernels) && (window.PyViz.kernels[plot_id])) {\n        window.PyViz.kernels[plot_id].registerCommTarget(comm_id, function(comm) {\n          comm.onMsg = msg_handler;\n        });\n      } else if (typeof google != 'undefined' && google.colab.kernel != null) {\n        google.colab.kernel.comms.registerTarget(comm_id, (comm) => {\n          var messages = comm.messages[Symbol.asyncIterator]();\n          function processIteratorResult(result) {\n            var message = result.value;\n            console.log(message)\n            var content = {data: message.data, comm_id};\n            var buffers = []\n            for (var buffer of message.buffers || []) {\n              buffers.push(new DataView(buffer))\n            }\n            var metadata = message.metadata || {};\n            var msg = {content, buffers, metadata}\n            msg_handler(msg);\n            return messages.next().then(processIteratorResult);\n          }\n          return messages.next().then(processIteratorResult);\n        })\n      }\n    }\n\n    JupyterCommManager.prototype.get_client_comm = function(plot_id, comm_id, msg_handler) {\n      if (comm_id in window.PyViz.comms) {\n        return window.PyViz.comms[comm_id];\n      } else if (window.comm_manager || ((window.Jupyter !== undefined) && (Jupyter.notebook.kernel != null))) {\n        var comm_manager = window.comm_manager || Jupyter.notebook.kernel.comm_manager;\n        var comm = comm_manager.new_comm(comm_id, {}, {}, {}, comm_id);\n        if (msg_handler) {\n          comm.on_msg(msg_handler);\n        }\n      } else if ((plot_id in window.PyViz.kernels) && (window.PyViz.kernels[plot_id])) {\n        var comm = window.PyViz.kernels[plot_id].connectToComm(comm_id);\n        comm.open();\n        if (msg_handler) {\n          comm.onMsg = msg_handler;\n        }\n      } else if (typeof google != 'undefined' && google.colab.kernel != null) {\n        var comm_promise = google.colab.kernel.comms.open(comm_id)\n        comm_promise.then((comm) => {\n          window.PyViz.comms[comm_id] = comm;\n          if (msg_handler) {\n            var messages = comm.messages[Symbol.asyncIterator]();\n            function processIteratorResult(result) {\n              var message = result.value;\n              var content = {data: message.data};\n              var metadata = message.metadata || {comm_id};\n              var msg = {content, metadata}\n              msg_handler(msg);\n              return messages.next().then(processIteratorResult);\n            }\n            return messages.next().then(processIteratorResult);\n          }\n        }) \n        var sendClosure = (data, metadata, buffers, disposeOnDone) => {\n          return comm_promise.then((comm) => {\n            comm.send(data, metadata, buffers, disposeOnDone);\n          });\n        };\n        var comm = {\n          send: sendClosure\n        };\n      }\n      window.PyViz.comms[comm_id] = comm;\n      return comm;\n    }\n    window.PyViz.comm_manager = new JupyterCommManager();\n    \n\n\nvar JS_MIME_TYPE = 'application/javascript';\nvar HTML_MIME_TYPE = 'text/html';\nvar EXEC_MIME_TYPE = 'application/vnd.holoviews_exec.v0+json';\nvar CLASS_NAME = 'output';\n\n/**\n * Render data to the DOM node\n */\nfunction render(props, node) {\n  var div = document.createElement(\"div\");\n  var script = document.createElement(\"script\");\n  node.appendChild(div);\n  node.appendChild(script);\n}\n\n/**\n * Handle when a new output is added\n */\nfunction handle_add_output(event, handle) {\n  var output_area = handle.output_area;\n  var output = handle.output;\n  if ((output.data == undefined) || (!output.data.hasOwnProperty(EXEC_MIME_TYPE))) {\n    return\n  }\n  var id = output.metadata[EXEC_MIME_TYPE][\"id\"];\n  var toinsert = output_area.element.find(\".\" + CLASS_NAME.split(' ')[0]);\n  if (id !== undefined) {\n    var nchildren = toinsert.length;\n    var html_node = toinsert[nchildren-1].children[0];\n    html_node.innerHTML = output.data[HTML_MIME_TYPE];\n    var scripts = [];\n    var nodelist = html_node.querySelectorAll(\"script\");\n    for (var i in nodelist) {\n      if (nodelist.hasOwnProperty(i)) {\n        scripts.push(nodelist[i])\n      }\n    }\n\n    scripts.forEach( function (oldScript) {\n      var newScript = document.createElement(\"script\");\n      var attrs = [];\n      var nodemap = oldScript.attributes;\n      for (var j in nodemap) {\n        if (nodemap.hasOwnProperty(j)) {\n          attrs.push(nodemap[j])\n        }\n      }\n      attrs.forEach(function(attr) { newScript.setAttribute(attr.name, attr.value) });\n      newScript.appendChild(document.createTextNode(oldScript.innerHTML));\n      oldScript.parentNode.replaceChild(newScript, oldScript);\n    });\n    if (JS_MIME_TYPE in output.data) {\n      toinsert[nchildren-1].children[1].textContent = output.data[JS_MIME_TYPE];\n    }\n    output_area._hv_plot_id = id;\n    if ((window.Bokeh !== undefined) && (id in Bokeh.index)) {\n      window.PyViz.plot_index[id] = Bokeh.index[id];\n    } else {\n      window.PyViz.plot_index[id] = null;\n    }\n  } else if (output.metadata[EXEC_MIME_TYPE][\"server_id\"] !== undefined) {\n    var bk_div = document.createElement(\"div\");\n    bk_div.innerHTML = output.data[HTML_MIME_TYPE];\n    var script_attrs = bk_div.children[0].attributes;\n    for (var i = 0; i < script_attrs.length; i++) {\n      toinsert[toinsert.length - 1].childNodes[1].setAttribute(script_attrs[i].name, script_attrs[i].value);\n    }\n    // store reference to server id on output_area\n    output_area._bokeh_server_id = output.metadata[EXEC_MIME_TYPE][\"server_id\"];\n  }\n}\n\n/**\n * Handle when an output is cleared or removed\n */\nfunction handle_clear_output(event, handle) {\n  var id = handle.cell.output_area._hv_plot_id;\n  var server_id = handle.cell.output_area._bokeh_server_id;\n  if (((id === undefined) || !(id in PyViz.plot_index)) && (server_id !== undefined)) { return; }\n  var comm = window.PyViz.comm_manager.get_client_comm(\"hv-extension-comm\", \"hv-extension-comm\", function () {});\n  if (server_id !== null) {\n    comm.send({event_type: 'server_delete', 'id': server_id});\n    return;\n  } else if (comm !== null) {\n    comm.send({event_type: 'delete', 'id': id});\n  }\n  delete PyViz.plot_index[id];\n  if ((window.Bokeh !== undefined) & (id in window.Bokeh.index)) {\n    var doc = window.Bokeh.index[id].model.document\n    doc.clear();\n    const i = window.Bokeh.documents.indexOf(doc);\n    if (i > -1) {\n      window.Bokeh.documents.splice(i, 1);\n    }\n  }\n}\n\n/**\n * Handle kernel restart event\n */\nfunction handle_kernel_cleanup(event, handle) {\n  delete PyViz.comms[\"hv-extension-comm\"];\n  window.PyViz.plot_index = {}\n}\n\n/**\n * Handle update_display_data messages\n */\nfunction handle_update_output(event, handle) {\n  handle_clear_output(event, {cell: {output_area: handle.output_area}})\n  handle_add_output(event, handle)\n}\n\nfunction register_renderer(events, OutputArea) {\n  function append_mime(data, metadata, element) {\n    // create a DOM node to render to\n    var toinsert = this.create_output_subarea(\n    metadata,\n    CLASS_NAME,\n    EXEC_MIME_TYPE\n    );\n    this.keyboard_manager.register_events(toinsert);\n    // Render to node\n    var props = {data: data, metadata: metadata[EXEC_MIME_TYPE]};\n    render(props, toinsert[0]);\n    element.append(toinsert);\n    return toinsert\n  }\n\n  events.on('output_added.OutputArea', handle_add_output);\n  events.on('output_updated.OutputArea', handle_update_output);\n  events.on('clear_output.CodeCell', handle_clear_output);\n  events.on('delete.Cell', handle_clear_output);\n  events.on('kernel_ready.Kernel', handle_kernel_cleanup);\n\n  OutputArea.prototype.register_mime_type(EXEC_MIME_TYPE, append_mime, {\n    safe: true,\n    index: 0\n  });\n}\n\nif (window.Jupyter !== undefined) {\n  try {\n    var events = require('base/js/events');\n    var OutputArea = require('notebook/js/outputarea').OutputArea;\n    if (OutputArea.prototype.mime_types().indexOf(EXEC_MIME_TYPE) == -1) {\n      register_renderer(events, OutputArea);\n    }\n  } catch(err) {\n  }\n}\n",
      "application/vnd.holoviews_load.v0+json": ""
     },
     "metadata": {},
     "output_type": "display_data"
    },
    {
     "data": {
      "text/html": [
       "<style>.bk-root, .bk-root .bk:before, .bk-root .bk:after {\n",
       "  font-family: var(--jp-ui-font-size1);\n",
       "  font-size: var(--jp-ui-font-size1);\n",
       "  color: var(--jp-ui-font-color1);\n",
       "}\n",
       "</style>"
      ]
     },
     "metadata": {},
     "output_type": "display_data"
    }
   ],
   "source": [
    "pn.extension()"
   ]
  },
  {
   "cell_type": "code",
   "execution_count": 13,
   "metadata": {},
   "outputs": [],
   "source": [
    "def renderPlot(station=270, year=2018, smoother='rolling mean'):\n",
    "    \"\"\"\n",
    "    Input= station number, year \n",
    "    Explanation= give a station number and year and plot the shaddy graph\n",
    "    Output= graph\n",
    "    \"\"\"\n",
    "\n",
    "    df = weatherDf[weatherDf['station'] == station]\n",
    "    df = df.reset_index().dropna()\n",
    "    df = df[df.Date.dt.year == year]\n",
    "    source = ColumnDataSource(data=df)\n",
    "    \n",
    "    p = figure(title='temprature', x_axis_type='datetime', x_axis_label='time', \n",
    "                     y_axis_label='temprature',plot_width=1000, plot_height=600) \n",
    "    \n",
    "    p.line(x='Date', y='Tmean', legend_label= 'Tmean', line_width=1, color='blue',source=source)\n",
    "    \n",
    "    band = Band(base='Date', lower='Tmin', upper='Tmax', source=source, level='underlay',\n",
    "            fill_alpha=1.0, line_width=1, line_color='black')\n",
    "    p.xaxis[0].formatter = DatetimeTickFormatter()  \n",
    "    p.add_layout(band)\n",
    "\n",
    "    p.line(x=df['Date'], y=smoothLineMaker(df.Tmean, smoother), \n",
    "         legend_label= smoother, line_width=1, color='red')\n",
    "    \n",
    "    return(p)\n"
   ]
  },
  {
   "cell_type": "code",
   "execution_count": 14,
   "metadata": {},
   "outputs": [],
   "source": [
    "def smoothLineMaker(df, smoother):\n",
    "\n",
    "    \"\"\"\n",
    "    Input= data frame (avarage tempreture series), smoothing technique\n",
    "    Explanation= recieve a series and a smoothing type and make a series for plot\n",
    "    Output= series for plot\n",
    "    \"\"\"    \n",
    "    \n",
    "    if smoother == 'rolling mean':\n",
    "        smoothDf = df.rolling(window=10).mean()\n",
    "        return smoothDf\n",
    "\n",
    "    elif smoother == 'exponential':\n",
    "        smoothDf = SimpleExpSmoothing(df).fit(smoothing_level=0.2, optimized=False)\n",
    "        return smoothDf.fittedvalues\n",
    "    \n",
    "    elif smoother == 'halt':\n",
    "        smoothDf =Holt(df).fit()\n",
    "        return smoothDf.fittedvalues\n",
    "    "
   ]
  },
  {
   "cell_type": "code",
   "execution_count": 15,
   "metadata": {},
   "outputs": [],
   "source": [
    "#make the graph interactive\n",
    "stationSeries = weatherDf['station']\n",
    "newDf = weatherDf.reset_index()\n",
    "yearSeries = newDf.Date.dt.year\n",
    "smoother = ['exponential', 'rolling mean', 'halt']\n",
    "interPlot = pn.interact(renderPlot, station=stationSeries, year=yearSeries, smoother=smoother)\n"
   ]
  },
  {
   "cell_type": "code",
   "execution_count": 16,
   "metadata": {},
   "outputs": [
    {
     "name": "stdout",
     "output_type": "stream",
     "text": [
      "Launching server at http://localhost:58526\n"
     ]
    },
    {
     "data": {
      "text/plain": [
       "<bokeh.server.server.Server at 0x25f6e3cbfd0>"
      ]
     },
     "execution_count": 16,
     "metadata": {},
     "output_type": "execute_result"
    }
   ],
   "source": [
    "#make a dashboard for it\n",
    "dashboard = pn.template.BootstrapTemplate(title='weather cast',sidebar_width=200)\n",
    "dashboard.sidebar.append(interPlot[0])\n",
    "dashboard.main.append(interPlot[1])\n",
    "dashboard.show()\n",
    "\n"
   ]
  }
 ],
 "metadata": {
  "kernelspec": {
   "display_name": "base",
   "language": "python",
   "name": "python3"
  },
  "language_info": {
   "codemirror_mode": {
    "name": "ipython",
    "version": 3
   },
   "file_extension": ".py",
   "mimetype": "text/x-python",
   "name": "python",
   "nbconvert_exporter": "python",
   "pygments_lexer": "ipython3",
   "version": "3.9.13 (main, Aug 25 2022, 23:51:50) [MSC v.1916 64 bit (AMD64)]"
  },
  "vscode": {
   "interpreter": {
    "hash": "e4cce46d6be9934fbd27f9ca0432556941ea5bdf741d4f4d64c6cd7f8dfa8fba"
   }
  }
 },
 "nbformat": 4,
 "nbformat_minor": 2
}
